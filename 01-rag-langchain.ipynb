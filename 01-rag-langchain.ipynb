{
 "cells": [
  {
   "attachments": {},
   "cell_type": "markdown",
   "metadata": {},
   "source": [
    "# Natural Language Processing\n",
    "\n",
    "# Retrieval-Augmented generation (RAG)\n",
    "\n",
    "RAG is a technique for augmenting LLM knowledge with additional, often private or real-time, data.\n",
    "\n",
    "LLMs can reason about wide-ranging topics, but their knowledge is limited to the public data up to a specific point in time that they were trained on. If you want to build AI applications that can reason about private data or data introduced after a model’s cutoff date, you need to augment the knowledge of the model with the specific information it needs.\n",
    "\n",
    "<img src=\"../figures/RAG-process.png\" >\n",
    "\n",
    "Introducing `ChakyBot`, an innovative chatbot designed to assist Chaky (the instructor) and TA (Gun) in explaining the lesson of the NLP course to students. Leveraging LangChain technology, ChakyBot excels in retrieving information from documents, ensuring a seamless and efficient learning experience for students engaging with the NLP curriculum.\n",
    "\n",
    "1. Prompt\n",
    "2. Retrieval\n",
    "3. Memory\n",
    "4. Chain"
   ]
  },
  {
   "cell_type": "code",
   "execution_count": 1,
   "metadata": {},
   "outputs": [],
   "source": [
    "# #langchain library\n",
    "# !pip install langchain==0.0.350\n",
    "# #LLM\n",
    "# !pip install accelerate==0.25.0\n",
    "# !pip install transformers==4.36.2\n",
    "# !pip install bitsandbytes==0.41.2\n",
    "# #Text Embedding\n",
    "# !pip install sentence-transformers==2.2.2\n",
    "# !pip install InstructorEmbedding==1.0.1\n",
    "# #vectorstore\n",
    "# !pip install pymupdf==1.23.8\n",
    "# !pip install faiss-gpu==1.7.2\n",
    "# !pip install faiss-cpu==1.7.4"
   ]
  },
  {
   "cell_type": "code",
   "execution_count": 2,
   "metadata": {},
   "outputs": [
    {
     "data": {
      "text/plain": [
       "device(type='mps')"
      ]
     },
     "execution_count": 2,
     "metadata": {},
     "output_type": "execute_result"
    }
   ],
   "source": [
    "import os\n",
    "import torch\n",
    "device = torch.device('mps')\n",
    "device"
   ]
  },
  {
   "attachments": {},
   "cell_type": "markdown",
   "metadata": {},
   "source": [
    "## 1. Prompt\n",
    "\n",
    "A set of instructions or input provided by a user to guide the model's response, helping it understand the context and generate relevant and coherent language-based output, such as answering questions, completing sentences, or engaging in a conversation."
   ]
  },
  {
   "cell_type": "code",
   "execution_count": 3,
   "metadata": {},
   "outputs": [
    {
     "data": {
      "text/plain": [
       "PromptTemplate(input_variables=['context', 'question'], template=\"I'm your friendly AI bot I will try to answer your questions especially about Usman\\n    {context}\\n    Question: {question}\\n    Answer:\")"
      ]
     },
     "execution_count": 3,
     "metadata": {},
     "output_type": "execute_result"
    }
   ],
   "source": [
    "from langchain import PromptTemplate\n",
    "\n",
    "prompt_template = \"\"\"\n",
    "    I'm your friendly AI bot I will try to answer your questions especially about Usman\n",
    "    {context}\n",
    "    Question: {question}\n",
    "    Answer:\n",
    "    \"\"\".strip()\n",
    "\n",
    "PROMPT = PromptTemplate.from_template(\n",
    "    template = prompt_template\n",
    ")\n",
    "\n",
    "PROMPT\n",
    "#using str.format \n",
    "#The placeholder is defined using curly brackets: {} {}"
   ]
  },
  {
   "cell_type": "code",
   "execution_count": 4,
   "metadata": {},
   "outputs": [
    {
     "data": {
      "text/plain": [
       "\"I'm your friendly AI bot I will try to answer your questions especially about Usman\\n    Machine learning (ML) is a field of study in artificial intelligence concerned with the development and study of statistical algorithms that can effectively generalize and thus perform tasks without explicit instructions.\\n    Question: What is Machine Learning\\n    Answer:\""
      ]
     },
     "execution_count": 4,
     "metadata": {},
     "output_type": "execute_result"
    }
   ],
   "source": [
    "PROMPT.format(\n",
    "    context = \"Machine learning (ML) is a field of study in artificial intelligence concerned with the development and study of statistical algorithms that can effectively generalize and thus perform tasks without explicit instructions.\",\n",
    "    question = \"What is Machine Learning\"\n",
    ")"
   ]
  },
  {
   "attachments": {},
   "cell_type": "markdown",
   "metadata": {},
   "source": [
    "Note : [How to improve prompting (Zero-shot, Few-shot, Chain-of-Thought, etc.](https://github.com/chaklam-silpasuwanchai/Natural-Language-Processing/blob/main/Code/05%20-%20RAG/advance/cot-tot-prompting.ipynb)"
   ]
  },
  {
   "attachments": {},
   "cell_type": "markdown",
   "metadata": {},
   "source": [
    "## 2. Retrieval\n",
    "\n",
    "1. `Document loaders` : Load documents from many different sources (HTML, PDF, code). \n",
    "2. `Document transformers` : One of the essential steps in document retrieval is breaking down a large document into smaller, relevant chunks to enhance the retrieval process.\n",
    "3. `Text embedding models` : Embeddings capture the semantic meaning of the text, allowing you to quickly and efficiently find other pieces of text that are similar.\n",
    "4. `Vector stores`: there has emerged a need for databases to support efficient storage and searching of these embeddings.\n",
    "5. `Retrievers` : Once the data is in the database, you still need to retrieve it."
   ]
  },
  {
   "attachments": {},
   "cell_type": "markdown",
   "metadata": {},
   "source": [
    "### 2.1 Document Loaders \n",
    "Use document loaders to load data from a source as Document's. A Document is a piece of text and associated metadata. For example, there are document loaders for loading a simple .txt file, for loading the text contents of any web page, or even for loading a transcript of a YouTube video.\n",
    "\n",
    "[PDF Loader](https://python.langchain.com/docs/modules/data_connection/document_loaders/pdf)\n",
    "\n",
    "[Download Document](https://web.stanford.edu/~jurafsky/slp3/)"
   ]
  },
  {
   "cell_type": "code",
   "execution_count": 5,
   "metadata": {},
   "outputs": [],
   "source": [
    "from langchain.document_loaders import PyMuPDFLoader\n",
    "\n",
    "nlp_docs = 'usman_portfolio.pdf'\n",
    "\n",
    "loader = PyMuPDFLoader(nlp_docs)\n",
    "documents = loader.load()"
   ]
  },
  {
   "cell_type": "code",
   "execution_count": 6,
   "metadata": {},
   "outputs": [
    {
     "data": {
      "text/plain": [
       "3"
      ]
     },
     "execution_count": 6,
     "metadata": {},
     "output_type": "execute_result"
    }
   ],
   "source": [
    "len(documents)"
   ]
  },
  {
   "cell_type": "code",
   "execution_count": 7,
   "metadata": {},
   "outputs": [
    {
     "data": {
      "text/plain": [
       "Document(page_content='optimization, cloud integrations, and security implementations. One of my key projects \\nhas been transitioning over 1,200 Hilton properties to HotelKey’s Front Desk system and \\nintegrating it with major online travel agencies (OTAs) like Agoda, Airbnb, and \\nBooking.com. Additionally, I have worked on integrating revenue management systems \\nsuch as IDeaS, Duetto, and Revenue Analytics, as well as optimizing ETL (Extract, \\nTransform, Load) processes to improve data handling eIiciency. Through my work, I have \\ncome to appreciate the importance of agile methodologies, teamwork, and scalable \\narchitectures in the software industry. \\nThe tech industry is one of the most dynamic ﬁelds, constantly evolving with new trends, \\nframeworks, and paradigms. My professional experiences have not only enhanced my \\ntechnical skills but also shaped my core beliefs regarding the role of technology in \\nsociety. I ﬁrmly believe that technology should be developed with the intention of \\nimproving lives, solving real-world challenges, and fostering inclusivity. While AI and \\nautomation can optimize processes and drive eIiciency, they should also be designed \\nwith ethical considerations, ensuring that advancements do not contribute to inequality \\nor biases. Cultural values play a signiﬁcant role in shaping how technology is perceived \\nand implemented across diIerent societies. For example, in data privacy-sensitive \\nregions, technologies should prioritize security and transparency, whereas in developing \\nnations, innovation should focus on bridging digital divides and making technology more \\naccessible. This balance between technological advancement and cultural adaptability \\nis something I strongly advocate for, both in my work and research. \\nAs I navigate my master’s program in Data Science and AI, my research interests continue \\nto evolve. I am particularly intrigued by the ﬁeld of Natural Language Processing (NLP), \\ndeep learning, and AI-driven decision-making systems. During my time at AIT, I aim to \\nwork on projects related to NLP, speech recognition, and AI ethics. My ultimate goal is to \\ncontribute to research that enhances AI’s ability to understand human language with \\ngreater accuracy while minimizing biases in language models. Additionally, I am \\ninterested in exploring how AI can be used in automated anomaly detection, \\ncybersecurity, and predictive analytics. This aligns with my career aspirations of working \\nat the intersection of data science, AI, and cloud computing to build intelligent, eIicient, \\nand responsible AI solutions. \\nDespite my technical expertise and professional achievements, I remain a lifelong \\nlearner. The technology landscape is constantly shifting, and keeping up with the latest \\ntools, frameworks, and methodologies is essential. In my role, I utilize IntelliJ, Postman, \\nCharles, Jira, Conﬂuence, and Visual Studio to streamline development workﬂows. I have \\nworked with design patterns like Singleton, Factory, Builder, Observer, Adapter, \\nDependency Injection, and Repository to create scalable and maintainable \\narchitectures. Moreover, version control systems such as GitHub, Bitbucket, and \\nTortoiseSVN have been integral to my collaborative development process. Testing is \\n', metadata={'source': 'usman_portfolio.pdf', 'file_path': 'usman_portfolio.pdf', 'page': 1, 'total_pages': 3, 'format': 'PDF 1.3', 'title': '', 'author': '', 'subject': '', 'keywords': '', 'creator': '', 'producer': 'macOS Version 14.6.1 (Build 23G93) Quartz PDFContext', 'creationDate': \"D:20250316175958Z00'00'\", 'modDate': \"D:20250316175958Z00'00'\", 'trapped': ''})"
      ]
     },
     "execution_count": 7,
     "metadata": {},
     "output_type": "execute_result"
    }
   ],
   "source": [
    "documents[1]"
   ]
  },
  {
   "attachments": {},
   "cell_type": "markdown",
   "metadata": {},
   "source": [
    "### 2.2 Document Transformers\n",
    "\n",
    "This text splitter is the recommended one for generic text. It is parameterized by a list of characters. It tries to split on them in order until the chunks are small enough"
   ]
  },
  {
   "cell_type": "code",
   "execution_count": 8,
   "metadata": {},
   "outputs": [],
   "source": [
    "from langchain.text_splitter import RecursiveCharacterTextSplitter\n",
    "\n",
    "text_splitter = RecursiveCharacterTextSplitter(\n",
    "    chunk_size = 700,\n",
    "    chunk_overlap = 100\n",
    ")\n",
    "\n",
    "doc = text_splitter.split_documents(documents)"
   ]
  },
  {
   "cell_type": "code",
   "execution_count": 9,
   "metadata": {},
   "outputs": [
    {
     "data": {
      "text/plain": [
       "Document(page_content='shaping industries and making life more eIicient. \\nMy academic journey began with a strong foundation in information technology. I pursued \\nmy Bachelor of Science in Information Technology at the University of the Punjab, a \\nprogram that gave me the technical expertise and analytical skills necessary to succeed \\nin the ﬁeld. Not only did I graduate with distinction, but I also achieved a CGPA of \\n3.93/4.00, which earned me the honor of being a gold medalist. During my undergraduate \\nyears, I immersed myself in programming, databases, and cloud computing while \\nactively participating in research and development projects. Excelling academically was', metadata={'source': 'usman_portfolio.pdf', 'file_path': 'usman_portfolio.pdf', 'page': 0, 'total_pages': 3, 'format': 'PDF 1.3', 'title': '', 'author': '', 'subject': '', 'keywords': '', 'creator': '', 'producer': 'macOS Version 14.6.1 (Build 23G93) Quartz PDFContext', 'creationDate': \"D:20250316175958Z00'00'\", 'modDate': \"D:20250316175958Z00'00'\", 'trapped': ''})"
      ]
     },
     "execution_count": 9,
     "metadata": {},
     "output_type": "execute_result"
    }
   ],
   "source": [
    "doc[1]"
   ]
  },
  {
   "cell_type": "code",
   "execution_count": 10,
   "metadata": {},
   "outputs": [
    {
     "data": {
      "text/plain": [
       "15"
      ]
     },
     "execution_count": 10,
     "metadata": {},
     "output_type": "execute_result"
    }
   ],
   "source": [
    "len(doc)"
   ]
  },
  {
   "attachments": {},
   "cell_type": "markdown",
   "metadata": {},
   "source": [
    "### 2.3 Text Embedding Models\n",
    "Embeddings create a vector representation of a piece of text. This is useful because it means we can think about text in the vector space, and do things like semantic search where we look for pieces of text that are most similar in the vector space.\n",
    "\n",
    "*Note* Instructor Model : [Huggingface](gingface.co/hkunlp/instructor-base) | [Paper](https://arxiv.org/abs/2212.09741)"
   ]
  },
  {
   "cell_type": "code",
   "execution_count": 11,
   "metadata": {},
   "outputs": [
    {
     "name": "stderr",
     "output_type": "stream",
     "text": [
      "/opt/anaconda3/envs/A6/lib/python3.8/site-packages/InstructorEmbedding/instructor.py:7: TqdmExperimentalWarning: Using `tqdm.autonotebook.tqdm` in notebook mode. Use `tqdm.tqdm` instead to force console mode (e.g. in jupyter console)\n",
      "  from tqdm.autonotebook import trange\n",
      "/opt/anaconda3/envs/A6/lib/python3.8/site-packages/transformers/utils/generic.py:441: FutureWarning: `torch.utils._pytree._register_pytree_node` is deprecated. Please use `torch.utils._pytree.register_pytree_node` instead.\n",
      "  _torch_pytree._register_pytree_node(\n"
     ]
    },
    {
     "name": "stdout",
     "output_type": "stream",
     "text": [
      "load INSTRUCTOR_Transformer\n"
     ]
    },
    {
     "name": "stderr",
     "output_type": "stream",
     "text": [
      "/opt/anaconda3/envs/A6/lib/python3.8/site-packages/transformers/utils/generic.py:309: FutureWarning: `torch.utils._pytree._register_pytree_node` is deprecated. Please use `torch.utils._pytree.register_pytree_node` instead.\n",
      "  _torch_pytree._register_pytree_node(\n",
      "/opt/anaconda3/envs/A6/lib/python3.8/site-packages/transformers/utils/generic.py:309: FutureWarning: `torch.utils._pytree._register_pytree_node` is deprecated. Please use `torch.utils._pytree.register_pytree_node` instead.\n",
      "  _torch_pytree._register_pytree_node(\n",
      "/opt/anaconda3/envs/A6/lib/python3.8/site-packages/transformers/modeling_utils.py:519: FutureWarning: You are using `torch.load` with `weights_only=False` (the current default value), which uses the default pickle module implicitly. It is possible to construct malicious pickle data which will execute arbitrary code during unpickling (See https://github.com/pytorch/pytorch/blob/main/SECURITY.md#untrusted-models for more details). In a future release, the default value for `weights_only` will be flipped to `True`. This limits the functions that could be executed during unpickling. Arbitrary objects will no longer be allowed to be loaded via this mode unless they are explicitly allowlisted by the user via `torch.serialization.add_safe_globals`. We recommend you start setting `weights_only=True` for any use case where you don't have full control of the loaded file. Please open an issue on GitHub for any issues related to this experimental feature.\n",
      "  return torch.load(checkpoint_file, map_location=map_location)\n"
     ]
    },
    {
     "name": "stdout",
     "output_type": "stream",
     "text": [
      "max_seq_length  512\n"
     ]
    },
    {
     "name": "stderr",
     "output_type": "stream",
     "text": [
      "/opt/anaconda3/envs/A6/lib/python3.8/site-packages/sentence_transformers/models/Dense.py:63: FutureWarning: You are using `torch.load` with `weights_only=False` (the current default value), which uses the default pickle module implicitly. It is possible to construct malicious pickle data which will execute arbitrary code during unpickling (See https://github.com/pytorch/pytorch/blob/main/SECURITY.md#untrusted-models for more details). In a future release, the default value for `weights_only` will be flipped to `True`. This limits the functions that could be executed during unpickling. Arbitrary objects will no longer be allowed to be loaded via this mode unless they are explicitly allowlisted by the user via `torch.serialization.add_safe_globals`. We recommend you start setting `weights_only=True` for any use case where you don't have full control of the loaded file. Please open an issue on GitHub for any issues related to this experimental feature.\n",
      "  model.load_state_dict(torch.load(os.path.join(input_path, 'pytorch_model.bin'), map_location=torch.device('cpu')))\n"
     ]
    }
   ],
   "source": [
    "import torch\n",
    "from langchain_community.embeddings import HuggingFaceInstructEmbeddings\n",
    "\n",
    "model_name = 'hkunlp/instructor-base'\n",
    "\n",
    "embedding_model = HuggingFaceInstructEmbeddings(\n",
    "    model_name = model_name,\n",
    "    model_kwargs = {\"device\" : device}\n",
    ")"
   ]
  },
  {
   "attachments": {},
   "cell_type": "markdown",
   "metadata": {},
   "source": [
    "### 2.4 Vector Stores\n",
    "\n",
    "One of the most common ways to store and search over unstructured data is to embed it and store the resulting embedding vectors, and then at query time to embed the unstructured query and retrieve the embedding vectors that are 'most similar' to the embedded query. A vector store takes care of storing embedded data and performing vector search for you."
   ]
  },
  {
   "cell_type": "code",
   "execution_count": 12,
   "metadata": {},
   "outputs": [],
   "source": [
    "#locate vectorstore\n",
    "vector_path = './vector-store'\n",
    "if not os.path.exists(vector_path):\n",
    "    os.makedirs(vector_path)\n",
    "    print('create path done')"
   ]
  },
  {
   "cell_type": "code",
   "execution_count": null,
   "metadata": {},
   "outputs": [],
   "source": []
  },
  {
   "cell_type": "code",
   "execution_count": 13,
   "metadata": {},
   "outputs": [],
   "source": [
    "#save vector locally\n",
    "from langchain.vectorstores import FAISS\n",
    "\n",
    "vectordb = FAISS.from_documents(\n",
    "    documents = doc,\n",
    "    embedding = embedding_model\n",
    ")\n",
    "\n",
    "db_file_name = 'nlp_stanford'\n",
    "\n",
    "vectordb.save_local(\n",
    "    folder_path = os.path.join(vector_path, db_file_name),\n",
    "    index_name = 'nlp' #default index\n",
    ")"
   ]
  },
  {
   "attachments": {},
   "cell_type": "markdown",
   "metadata": {},
   "source": [
    "### 2.5 retrievers\n",
    "A retriever is an interface that returns documents given an unstructured query. It is more general than a vector store. A retriever does not need to be able to store documents, only to return (or retrieve) them. Vector stores can be used as the backbone of a retriever, but there are other types of retrievers as well."
   ]
  },
  {
   "cell_type": "code",
   "execution_count": 14,
   "metadata": {},
   "outputs": [],
   "source": [
    "#calling vector from local\n",
    "vector_path = './vector-store'\n",
    "db_file_name = 'nlp_stanford'\n",
    "\n",
    "from langchain.vectorstores import FAISS\n",
    "\n",
    "vectordb = FAISS.load_local(\n",
    "    folder_path = os.path.join(vector_path, db_file_name),\n",
    "    embeddings = embedding_model,\n",
    "    index_name = 'nlp' #default index\n",
    ")   "
   ]
  },
  {
   "cell_type": "code",
   "execution_count": 15,
   "metadata": {},
   "outputs": [],
   "source": [
    "#ready to use\n",
    "retriever = vectordb.as_retriever()"
   ]
  },
  {
   "cell_type": "code",
   "execution_count": 16,
   "metadata": {},
   "outputs": [
    {
     "data": {
      "text/plain": [
       "[Document(page_content=\"actively participating in research and development projects. Excelling academically was \\na priority, but what truly drove me was the ability to apply theoretical knowledge to \\npractical problems. This academic success led me to receive one of the most prestigious \\nscholarships, His Majesty the King's Scholarship, awarded by the Royal Thai Government. \\nThis enabled me to take my education to the next level by pursuing a Master’s in Data \\nScience and Artiﬁcial Intelligence at the Asian Institute of Technology (AIT), Thailand, \\nwhere I began my studies in August 2024. The transition from undergraduate studies to a\", metadata={'source': 'usman_portfolio.pdf', 'file_path': 'usman_portfolio.pdf', 'page': 0, 'total_pages': 3, 'format': 'PDF 1.3', 'title': '', 'author': '', 'subject': '', 'keywords': '', 'creator': '', 'producer': 'macOS Version 14.6.1 (Build 23G93) Quartz PDFContext', 'creationDate': \"D:20250316175958Z00'00'\", 'modDate': \"D:20250316175958Z00'00'\", 'trapped': ''}),\n",
       " Document(page_content='cybersecurity, and predictive analytics. This aligns with my career aspirations of working \\nat the intersection of data science, AI, and cloud computing to build intelligent, eIicient, \\nand responsible AI solutions. \\nDespite my technical expertise and professional achievements, I remain a lifelong \\nlearner. The technology landscape is constantly shifting, and keeping up with the latest \\ntools, frameworks, and methodologies is essential. In my role, I utilize IntelliJ, Postman, \\nCharles, Jira, Conﬂuence, and Visual Studio to streamline development workﬂows. I have \\nworked with design patterns like Singleton, Factory, Builder, Observer, Adapter,', metadata={'source': 'usman_portfolio.pdf', 'file_path': 'usman_portfolio.pdf', 'page': 1, 'total_pages': 3, 'format': 'PDF 1.3', 'title': '', 'author': '', 'subject': '', 'keywords': '', 'creator': '', 'producer': 'macOS Version 14.6.1 (Build 23G93) Quartz PDFContext', 'creationDate': \"D:20250316175958Z00'00'\", 'modDate': \"D:20250316175958Z00'00'\", 'trapped': ''}),\n",
       " Document(page_content='where I began my studies in August 2024. The transition from undergraduate studies to a \\nmaster’s program was both exciting and challenging. The most demanding aspect of my \\ngraduate studies so far has been the depth of mathematical and statistical foundations \\nrequired for AI and machine learning. While I had previously worked with data analytics \\nand machine learning models, the master’s program requires an even deeper \\nunderstanding of complex algorithms, optimization techniques, and real-world \\napplications. Balancing research, coursework, and practical projects has been a \\ndemanding yet fulﬁlling experience.', metadata={'source': 'usman_portfolio.pdf', 'file_path': 'usman_portfolio.pdf', 'page': 0, 'total_pages': 3, 'format': 'PDF 1.3', 'title': '', 'author': '', 'subject': '', 'keywords': '', 'creator': '', 'producer': 'macOS Version 14.6.1 (Build 23G93) Quartz PDFContext', 'creationDate': \"D:20250316175958Z00'00'\", 'modDate': \"D:20250316175958Z00'00'\", 'trapped': ''}),\n",
       " Document(page_content='Usman’s Portfolio \\nTechnology has always been a transformative force, shaping societies in unprecedented \\nways and redeﬁning how we interact, conduct business, and solve real-world problems. \\nMy passion for technology and software engineering has been a deﬁning aspect of my \\njourney, leading me to where I am today. Born on September 24, 1995, I have spent my \\nyears constantly evolving with the technological landscape, embracing challenges, and \\ncontinuously learning. With nearly 29 years of life experience, I have always been \\nfascinated by how software, artiﬁcial intelligence, and cloud computing contribute to \\nshaping industries and making life more eIicient.', metadata={'source': 'usman_portfolio.pdf', 'file_path': 'usman_portfolio.pdf', 'page': 0, 'total_pages': 3, 'format': 'PDF 1.3', 'title': '', 'author': '', 'subject': '', 'keywords': '', 'creator': '', 'producer': 'macOS Version 14.6.1 (Build 23G93) Quartz PDFContext', 'creationDate': \"D:20250316175958Z00'00'\", 'modDate': \"D:20250316175958Z00'00'\", 'trapped': ''})]"
      ]
     },
     "execution_count": 16,
     "metadata": {},
     "output_type": "execute_result"
    }
   ],
   "source": [
    "retriever.get_relevant_documents(\"What is your name\")"
   ]
  },
  {
   "cell_type": "code",
   "execution_count": 17,
   "metadata": {},
   "outputs": [
    {
     "data": {
      "text/plain": [
       "[Document(page_content='demanding yet fulﬁlling experience. \\nWith over two years of professional work experience, I have gained hands-on exposure to \\nvarious aspects of software engineering. Currently, I am employed as a Software \\nEngineer at HotelKey, a US-based company, where I work remotely, contributing to a \\nhighly dynamic and innovative environment. Before this, I served as an Associate \\nSoftware Engineer at the same company, progressing in my role due to my contributions \\nand ability to handle complex technical challenges. My work primarily revolves around \\ndeveloping and maintaining RESTful APIs, cloud-based architectures, and scalable', metadata={'source': 'usman_portfolio.pdf', 'file_path': 'usman_portfolio.pdf', 'page': 0, 'total_pages': 3, 'format': 'PDF 1.3', 'title': '', 'author': '', 'subject': '', 'keywords': '', 'creator': '', 'producer': 'macOS Version 14.6.1 (Build 23G93) Quartz PDFContext', 'creationDate': \"D:20250316175958Z00'00'\", 'modDate': \"D:20250316175958Z00'00'\", 'trapped': ''}),\n",
       " Document(page_content='shaping industries and making life more eIicient. \\nMy academic journey began with a strong foundation in information technology. I pursued \\nmy Bachelor of Science in Information Technology at the University of the Punjab, a \\nprogram that gave me the technical expertise and analytical skills necessary to succeed \\nin the ﬁeld. Not only did I graduate with distinction, but I also achieved a CGPA of \\n3.93/4.00, which earned me the honor of being a gold medalist. During my undergraduate \\nyears, I immersed myself in programming, databases, and cloud computing while \\nactively participating in research and development projects. Excelling academically was', metadata={'source': 'usman_portfolio.pdf', 'file_path': 'usman_portfolio.pdf', 'page': 0, 'total_pages': 3, 'format': 'PDF 1.3', 'title': '', 'author': '', 'subject': '', 'keywords': '', 'creator': '', 'producer': 'macOS Version 14.6.1 (Build 23G93) Quartz PDFContext', 'creationDate': \"D:20250316175958Z00'00'\", 'modDate': \"D:20250316175958Z00'00'\", 'trapped': ''}),\n",
       " Document(page_content='expertise. The transition from structured undergraduate education to self-driven \\nresearch in a master’s program has been an eye-opening experience, pushing me to think \\ncritically and explore innovative AI solutions to real-world problems. \\nLooking ahead, I am committed to furthering my knowledge and expertise in AI, software \\nengineering, and cloud technologies. I envision myself contributing to groundbreaking AI \\napplications that revolutionize industries while upholding ethical AI practices and \\ninclusive technological development. As I continue my journey in data science and AI \\nresearch, I remain excited about the endless possibilities that lie ahead and eager to', metadata={'source': 'usman_portfolio.pdf', 'file_path': 'usman_portfolio.pdf', 'page': 2, 'total_pages': 3, 'format': 'PDF 1.3', 'title': '', 'author': '', 'subject': '', 'keywords': '', 'creator': '', 'producer': 'macOS Version 14.6.1 (Build 23G93) Quartz PDFContext', 'creationDate': \"D:20250316175958Z00'00'\", 'modDate': \"D:20250316175958Z00'00'\", 'trapped': ''}),\n",
       " Document(page_content='where I began my studies in August 2024. The transition from undergraduate studies to a \\nmaster’s program was both exciting and challenging. The most demanding aspect of my \\ngraduate studies so far has been the depth of mathematical and statistical foundations \\nrequired for AI and machine learning. While I had previously worked with data analytics \\nand machine learning models, the master’s program requires an even deeper \\nunderstanding of complex algorithms, optimization techniques, and real-world \\napplications. Balancing research, coursework, and practical projects has been a \\ndemanding yet fulﬁlling experience.', metadata={'source': 'usman_portfolio.pdf', 'file_path': 'usman_portfolio.pdf', 'page': 0, 'total_pages': 3, 'format': 'PDF 1.3', 'title': '', 'author': '', 'subject': '', 'keywords': '', 'creator': '', 'producer': 'macOS Version 14.6.1 (Build 23G93) Quartz PDFContext', 'creationDate': \"D:20250316175958Z00'00'\", 'modDate': \"D:20250316175958Z00'00'\", 'trapped': ''})]"
      ]
     },
     "execution_count": 17,
     "metadata": {},
     "output_type": "execute_result"
    }
   ],
   "source": [
    "retriever.get_relevant_documents(\"What is job experience\")"
   ]
  },
  {
   "attachments": {},
   "cell_type": "markdown",
   "metadata": {},
   "source": [
    "## 3. Memory\n",
    "\n",
    "One of the core utility classes underpinning most (if not all) memory modules is the ChatMessageHistory class. This is a super lightweight wrapper that provides convenience methods for saving HumanMessages, AIMessages, and then fetching them all.\n",
    "\n",
    "You may want to use this class directly if you are managing memory outside of a chain.\n"
   ]
  },
  {
   "cell_type": "code",
   "execution_count": 18,
   "metadata": {},
   "outputs": [
    {
     "data": {
      "text/plain": [
       "ChatMessageHistory(messages=[])"
      ]
     },
     "execution_count": 18,
     "metadata": {},
     "output_type": "execute_result"
    }
   ],
   "source": [
    "from langchain.memory import ChatMessageHistory\n",
    "\n",
    "history = ChatMessageHistory()\n",
    "history"
   ]
  },
  {
   "cell_type": "code",
   "execution_count": 19,
   "metadata": {},
   "outputs": [],
   "source": [
    "history.add_user_message('hi')\n",
    "history.add_ai_message('Whats up?')\n",
    "history.add_user_message('How are you')\n",
    "history.add_ai_message('I\\'m quite good. How about you?')"
   ]
  },
  {
   "cell_type": "code",
   "execution_count": 20,
   "metadata": {},
   "outputs": [
    {
     "data": {
      "text/plain": [
       "ChatMessageHistory(messages=[HumanMessage(content='hi'), AIMessage(content='Whats up?'), HumanMessage(content='How are you'), AIMessage(content=\"I'm quite good. How about you?\")])"
      ]
     },
     "execution_count": 20,
     "metadata": {},
     "output_type": "execute_result"
    }
   ],
   "source": [
    "history"
   ]
  },
  {
   "attachments": {},
   "cell_type": "markdown",
   "metadata": {},
   "source": [
    "### 3.1 Memory types\n",
    "\n",
    "There are many different types of memory. Each has their own parameters, their own return types, and is useful in different scenarios. \n",
    "- Converstaion Buffer\n",
    "- Converstaion Buffer Window"
   ]
  },
  {
   "attachments": {},
   "cell_type": "markdown",
   "metadata": {},
   "source": [
    "What variables get returned from memory\n",
    "\n",
    "Before going into the chain, various variables are read from memory. These have specific names which need to align with the variables the chain expects. You can see what these variables are by calling memory.load_memory_variables({}). Note that the empty dictionary that we pass in is just a placeholder for real variables. If the memory type you are using is dependent upon the input variables, you may need to pass some in."
   ]
  },
  {
   "attachments": {},
   "cell_type": "markdown",
   "metadata": {},
   "source": [
    "In this case, you can see that load_memory_variables returns a single key, history. This means that your chain (and likely your prompt) should expect an input named history. You can usually control this variable through parameters on the memory class. For example, if you want the memory variables to be returned in the key chat_history you can do:"
   ]
  },
  {
   "attachments": {},
   "cell_type": "markdown",
   "metadata": {},
   "source": [
    "#### Converstaion Buffer\n",
    "This memory allows for storing messages and then extracts the messages in a variable."
   ]
  },
  {
   "cell_type": "code",
   "execution_count": 21,
   "metadata": {},
   "outputs": [
    {
     "data": {
      "text/plain": [
       "{'history': \"Human: hi\\nAI: What's up?\\nHuman: How are you?\\nAI: I'm quite good. How about you?\"}"
      ]
     },
     "execution_count": 21,
     "metadata": {},
     "output_type": "execute_result"
    }
   ],
   "source": [
    "from langchain.memory import ConversationBufferMemory\n",
    "\n",
    "memory = ConversationBufferMemory()\n",
    "memory.save_context({'input':'hi'}, {'output':'What\\'s up?'})\n",
    "memory.save_context({\"input\":'How are you?'},{'output': 'I\\'m quite good. How about you?'})\n",
    "memory.load_memory_variables({})"
   ]
  },
  {
   "cell_type": "code",
   "execution_count": 22,
   "metadata": {},
   "outputs": [
    {
     "data": {
      "text/plain": [
       "{'history': [HumanMessage(content='hi'),\n",
       "  AIMessage(content=\"What's up?\"),\n",
       "  HumanMessage(content='How are you?'),\n",
       "  AIMessage(content=\"I'm quite good. How about you?\")]}"
      ]
     },
     "execution_count": 22,
     "metadata": {},
     "output_type": "execute_result"
    }
   ],
   "source": [
    "from langchain.memory import ConversationBufferMemory\n",
    "\n",
    "memory = ConversationBufferMemory(return_messages = True)\n",
    "memory.save_context({'input':'hi'}, {'output':'What\\'s up?'})\n",
    "memory.save_context({\"input\":'How are you?'},{'output': 'I\\'m quite good. How about you?'})\n",
    "memory.load_memory_variables({})"
   ]
  },
  {
   "attachments": {},
   "cell_type": "markdown",
   "metadata": {},
   "source": [
    "#### Conversation Buffer Window\n",
    "- it keeps a list of the interactions of the conversation over time. \n",
    "- it only uses the last K interactions. \n",
    "- it can be useful for keeping a sliding window of the most recent interactions, so the buffer does not get too large."
   ]
  },
  {
   "cell_type": "code",
   "execution_count": 23,
   "metadata": {},
   "outputs": [
    {
     "data": {
      "text/plain": [
       "{'history': \"Human: How are you?\\nAI: I'm quite good. How about you?\"}"
      ]
     },
     "execution_count": 23,
     "metadata": {},
     "output_type": "execute_result"
    }
   ],
   "source": [
    "from langchain.memory import ConversationBufferWindowMemory\n",
    "\n",
    "memory = ConversationBufferWindowMemory(k=1)\n",
    "memory.save_context({'input':'hi'}, {'output':'What\\'s up?'})\n",
    "memory.save_context({\"input\":'How are you?'},{'output': 'I\\'m quite good. How about you?'})\n",
    "memory.load_memory_variables({})"
   ]
  },
  {
   "attachments": {},
   "cell_type": "markdown",
   "metadata": {},
   "source": [
    "## 4. Chain\n",
    "\n",
    "Using an LLM in isolation is fine for simple applications, but more complex applications require chaining LLMs - either with each other or with other components.\n",
    "\n",
    "An `LLMChain` is a simple chain that adds some functionality around language models.\n",
    "- it consists of a `PromptTemplate` and a `LM` (either an LLM or chat model).\n",
    "- it formats the prompt template using the input key values provided (and also memory key values, if available), \n",
    "- it passes the formatted string to LLM and returns the LLM output.\n",
    "\n",
    "Note : [Download Fastchat Model Here](https://huggingface.co/lmsys/fastchat-t5-3b-v1.0)"
   ]
  },
  {
   "cell_type": "code",
   "execution_count": 24,
   "metadata": {},
   "outputs": [],
   "source": [
    "# %cd ./models\n",
    "# !git clone https://huggingface.co/lmsys/fastchat-t5-3b-v1.0"
   ]
  },
  {
   "cell_type": "code",
   "execution_count": 25,
   "metadata": {},
   "outputs": [
    {
     "name": "stderr",
     "output_type": "stream",
     "text": [
      "You are using the default legacy behaviour of the <class 'transformers.models.t5.tokenization_t5.T5Tokenizer'>. This is expected, and simply means that the `legacy` (previous) behavior will be used so nothing changes for you. If you want to use the new behaviour, set `legacy=False`. This should only be set if you understand what it means, and thouroughly read the reason why this was added as explained in https://github.com/huggingface/transformers/pull/24565\n",
      "Special tokens have been added in the vocabulary, make sure the associated word embeddings are fine-tuned or trained.\n",
      "Special tokens have been added in the vocabulary, make sure the associated word embeddings are fine-tuned or trained.\n",
      "/opt/anaconda3/envs/A6/lib/python3.8/site-packages/transformers/modeling_utils.py:519: FutureWarning: You are using `torch.load` with `weights_only=False` (the current default value), which uses the default pickle module implicitly. It is possible to construct malicious pickle data which will execute arbitrary code during unpickling (See https://github.com/pytorch/pytorch/blob/main/SECURITY.md#untrusted-models for more details). In a future release, the default value for `weights_only` will be flipped to `True`. This limits the functions that could be executed during unpickling. Arbitrary objects will no longer be allowed to be loaded via this mode unless they are explicitly allowlisted by the user via `torch.serialization.add_safe_globals`. We recommend you start setting `weights_only=True` for any use case where you don't have full control of the loaded file. Please open an issue on GitHub for any issues related to this experimental feature.\n",
      "  return torch.load(checkpoint_file, map_location=map_location)\n"
     ]
    }
   ],
   "source": [
    "from transformers import AutoTokenizer, pipeline, AutoModelForSeq2SeqLM\n",
    "from transformers import BitsAndBytesConfig\n",
    "from langchain import HuggingFacePipeline\n",
    "import torch\n",
    "\n",
    "model_id = './models/fastchat-t5-3b-v1.0/'\n",
    "\n",
    "tokenizer = AutoTokenizer.from_pretrained(\n",
    "    model_id)\n",
    "\n",
    "tokenizer.pad_token_id = tokenizer.eos_token_id\n",
    "\n",
    "bitsandbyte_config = BitsAndBytesConfig(\n",
    "    load_in_4bit = True,\n",
    "    bnb_4bit_quant_type = \"nf4\",\n",
    "    bnb_4bit_compute_dtype = torch.float16,\n",
    "    bnb_4bit_use_double_quant = True\n",
    ")\n",
    "\n",
    "# model = AutoModelForSeq2SeqLM.from_pretrained(\n",
    "#     model_id,\n",
    "#     quantization_config = bitsandbyte_config, #caution Nvidia\n",
    "#     device_map = 'auto',\n",
    "#     load_in_8bit = True\n",
    "# )\n",
    "\n",
    "model = AutoModelForSeq2SeqLM.from_pretrained(\n",
    "    model_id,\n",
    "    #quantization_config = bitsandbyte_config, #caution Nvidia\n",
    "    #device_map = 'auto',\n",
    "    torch_dtype=torch.float16,\n",
    "    device_map={\"\": device}\n",
    "    #load_in_8bit = True\n",
    ")\n",
    "\n",
    "pipe = pipeline(\n",
    "    task=\"text2text-generation\",\n",
    "    model=model,\n",
    "    tokenizer=tokenizer,\n",
    "    max_new_tokens = 256,\n",
    "    model_kwargs = {\n",
    "        \"temperature\" : 0,\n",
    "        \"repetition_penalty\": 1.5\n",
    "    }\n",
    ")\n",
    "\n",
    "llm = HuggingFacePipeline(pipeline = pipe)"
   ]
  },
  {
   "attachments": {},
   "cell_type": "markdown",
   "metadata": {},
   "source": [
    "### [Class ConversationalRetrievalChain](https://api.python.langchain.com/en/latest/_modules/langchain/chains/conversational_retrieval/base.html#ConversationalRetrievalChain)\n",
    "\n",
    "- `retriever` : Retriever to use to fetch documents.\n",
    "\n",
    "- `combine_docs_chain` : The chain used to combine any retrieved documents.\n",
    "\n",
    "- `question_generator`: The chain used to generate a new question for the sake of retrieval. This chain will take in the current question (with variable question) and any chat history (with variable chat_history) and will produce a new standalone question to be used later on.\n",
    "\n",
    "- `return_source_documents` : Return the retrieved source documents as part of the final result.\n",
    "\n",
    "- `get_chat_history` : An optional function to get a string of the chat history. If None is provided, will use a default.\n",
    "\n",
    "- `return_generated_question` : Return the generated question as part of the final result.\n",
    "\n",
    "- `response_if_no_docs_found` : If specified, the chain will return a fixed response if no docs are found for the question.\n"
   ]
  },
  {
   "attachments": {},
   "cell_type": "markdown",
   "metadata": {},
   "source": [
    "`question_generator`"
   ]
  },
  {
   "cell_type": "code",
   "execution_count": 26,
   "metadata": {},
   "outputs": [],
   "source": [
    "from langchain.chains import LLMChain\n",
    "from langchain.chains.conversational_retrieval.prompts import CONDENSE_QUESTION_PROMPT\n",
    "from langchain.memory import ConversationBufferWindowMemory\n",
    "from langchain.chains.question_answering import load_qa_chain\n",
    "from langchain.chains import ConversationalRetrievalChain"
   ]
  },
  {
   "cell_type": "code",
   "execution_count": 27,
   "metadata": {},
   "outputs": [
    {
     "data": {
      "text/plain": [
       "PromptTemplate(input_variables=['chat_history', 'question'], template='Given the following conversation and a follow up question, rephrase the follow up question to be a standalone question, in its original language.\\n\\nChat History:\\n{chat_history}\\nFollow Up Input: {question}\\nStandalone question:')"
      ]
     },
     "execution_count": 27,
     "metadata": {},
     "output_type": "execute_result"
    }
   ],
   "source": [
    "CONDENSE_QUESTION_PROMPT"
   ]
  },
  {
   "cell_type": "code",
   "execution_count": 28,
   "metadata": {},
   "outputs": [],
   "source": [
    "question_generator = LLMChain(\n",
    "    llm = llm,\n",
    "    prompt = CONDENSE_QUESTION_PROMPT,\n",
    "    verbose = True\n",
    ")"
   ]
  },
  {
   "cell_type": "code",
   "execution_count": 29,
   "metadata": {},
   "outputs": [
    {
     "name": "stdout",
     "output_type": "stream",
     "text": [
      "\n",
      "\n",
      "\u001b[1m> Entering new LLMChain chain...\u001b[0m\n",
      "Prompt after formatting:\n",
      "\u001b[32;1m\u001b[1;3mGiven the following conversation and a follow up question, rephrase the follow up question to be a standalone question, in its original language.\n",
      "\n",
      "Chat History:\n",
      "Human:What is your age?\n",
      "AI:\n",
      "Human:How old are you?\n",
      "AI:\n",
      "Follow Up Input: Comparing both of them\n",
      "Standalone question:\u001b[0m\n",
      "\n",
      "\u001b[1m> Finished chain.\u001b[0m\n"
     ]
    },
    {
     "data": {
      "text/plain": [
       "{'chat_history': 'Human:What is your age?\\nAI:\\nHuman:How old are you?\\nAI:',\n",
       " 'question': 'Comparing both of them',\n",
       " 'text': '<pad> How  old  are  you?\\n'}"
      ]
     },
     "execution_count": 29,
     "metadata": {},
     "output_type": "execute_result"
    }
   ],
   "source": [
    "query = 'Comparing both of them'\n",
    "chat_history = \"Human:What is your age?\\nAI:\\nHuman:How old are you?\\nAI:\"\n",
    "\n",
    "question_generator({'chat_history' : chat_history, \"question\" : query})"
   ]
  },
  {
   "attachments": {},
   "cell_type": "markdown",
   "metadata": {},
   "source": [
    "`combine_docs_chain`"
   ]
  },
  {
   "cell_type": "code",
   "execution_count": 30,
   "metadata": {},
   "outputs": [
    {
     "data": {
      "text/plain": [
       "StuffDocumentsChain(verbose=True, llm_chain=LLMChain(verbose=True, prompt=PromptTemplate(input_variables=['context', 'question'], template=\"I'm your friendly AI bot I will try to answer your questions especially about Usman\\n    {context}\\n    Question: {question}\\n    Answer:\"), llm=HuggingFacePipeline(pipeline=<transformers.pipelines.text2text_generation.Text2TextGenerationPipeline object at 0x32da5e8e0>)), document_variable_name='context')"
      ]
     },
     "execution_count": 30,
     "metadata": {},
     "output_type": "execute_result"
    }
   ],
   "source": [
    "doc_chain = load_qa_chain(\n",
    "    llm = llm,\n",
    "    chain_type = 'stuff',\n",
    "    prompt = PROMPT,\n",
    "    verbose = True\n",
    ")\n",
    "doc_chain"
   ]
  },
  {
   "cell_type": "code",
   "execution_count": 31,
   "metadata": {
    "scrolled": true
   },
   "outputs": [
    {
     "name": "stdout",
     "output_type": "stream",
     "text": [
      "\n",
      "\n",
      "\u001b[1m> Entering new StuffDocumentsChain chain...\u001b[0m\n",
      "\n",
      "\n",
      "\u001b[1m> Entering new LLMChain chain...\u001b[0m\n",
      "Prompt after formatting:\n",
      "\u001b[32;1m\u001b[1;3mI'm your friendly AI bot I will try to answer your questions especially about Usman\n",
      "    Usman’s Portfolio \n",
      "Technology has always been a transformative force, shaping societies in unprecedented \n",
      "ways and redeﬁning how we interact, conduct business, and solve real-world problems. \n",
      "My passion for technology and software engineering has been a deﬁning aspect of my \n",
      "journey, leading me to where I am today. Born on September 24, 1995, I have spent my \n",
      "years constantly evolving with the technological landscape, embracing challenges, and \n",
      "continuously learning. With nearly 29 years of life experience, I have always been \n",
      "fascinated by how software, artiﬁcial intelligence, and cloud computing contribute to \n",
      "shaping industries and making life more eIicient.\n",
      "\n",
      "where I began my studies in August 2024. The transition from undergraduate studies to a \n",
      "master’s program was both exciting and challenging. The most demanding aspect of my \n",
      "graduate studies so far has been the depth of mathematical and statistical foundations \n",
      "required for AI and machine learning. While I had previously worked with data analytics \n",
      "and machine learning models, the master’s program requires an even deeper \n",
      "understanding of complex algorithms, optimization techniques, and real-world \n",
      "applications. Balancing research, coursework, and practical projects has been a \n",
      "demanding yet fulﬁlling experience.\n",
      "\n",
      "actively participating in research and development projects. Excelling academically was \n",
      "a priority, but what truly drove me was the ability to apply theoretical knowledge to \n",
      "practical problems. This academic success led me to receive one of the most prestigious \n",
      "scholarships, His Majesty the King's Scholarship, awarded by the Royal Thai Government. \n",
      "This enabled me to take my education to the next level by pursuing a Master’s in Data \n",
      "Science and Artiﬁcial Intelligence at the Asian Institute of Technology (AIT), Thailand, \n",
      "where I began my studies in August 2024. The transition from undergraduate studies to a\n",
      "\n",
      "As I navigate my master’s program in Data Science and AI, my research interests continue \n",
      "to evolve. I am particularly intrigued by the ﬁeld of Natural Language Processing (NLP), \n",
      "deep learning, and AI-driven decision-making systems. During my time at AIT, I aim to \n",
      "work on projects related to NLP, speech recognition, and AI ethics. My ultimate goal is to \n",
      "contribute to research that enhances AI’s ability to understand human language with \n",
      "greater accuracy while minimizing biases in language models. Additionally, I am \n",
      "interested in exploring how AI can be used in automated anomaly detection, \n",
      "cybersecurity, and predictive analytics. This aligns with my career aspirations of working\n",
      "    Question: What is your birth date?\n",
      "    Answer:\u001b[0m\n",
      "\n",
      "\u001b[1m> Finished chain.\u001b[0m\n",
      "\n",
      "\u001b[1m> Finished chain.\u001b[0m\n"
     ]
    },
    {
     "data": {
      "text/plain": [
       "{'input_documents': [Document(page_content='Usman’s Portfolio \\nTechnology has always been a transformative force, shaping societies in unprecedented \\nways and redeﬁning how we interact, conduct business, and solve real-world problems. \\nMy passion for technology and software engineering has been a deﬁning aspect of my \\njourney, leading me to where I am today. Born on September 24, 1995, I have spent my \\nyears constantly evolving with the technological landscape, embracing challenges, and \\ncontinuously learning. With nearly 29 years of life experience, I have always been \\nfascinated by how software, artiﬁcial intelligence, and cloud computing contribute to \\nshaping industries and making life more eIicient.', metadata={'source': 'usman_portfolio.pdf', 'file_path': 'usman_portfolio.pdf', 'page': 0, 'total_pages': 3, 'format': 'PDF 1.3', 'title': '', 'author': '', 'subject': '', 'keywords': '', 'creator': '', 'producer': 'macOS Version 14.6.1 (Build 23G93) Quartz PDFContext', 'creationDate': \"D:20250316175958Z00'00'\", 'modDate': \"D:20250316175958Z00'00'\", 'trapped': ''}),\n",
       "  Document(page_content='where I began my studies in August 2024. The transition from undergraduate studies to a \\nmaster’s program was both exciting and challenging. The most demanding aspect of my \\ngraduate studies so far has been the depth of mathematical and statistical foundations \\nrequired for AI and machine learning. While I had previously worked with data analytics \\nand machine learning models, the master’s program requires an even deeper \\nunderstanding of complex algorithms, optimization techniques, and real-world \\napplications. Balancing research, coursework, and practical projects has been a \\ndemanding yet fulﬁlling experience.', metadata={'source': 'usman_portfolio.pdf', 'file_path': 'usman_portfolio.pdf', 'page': 0, 'total_pages': 3, 'format': 'PDF 1.3', 'title': '', 'author': '', 'subject': '', 'keywords': '', 'creator': '', 'producer': 'macOS Version 14.6.1 (Build 23G93) Quartz PDFContext', 'creationDate': \"D:20250316175958Z00'00'\", 'modDate': \"D:20250316175958Z00'00'\", 'trapped': ''}),\n",
       "  Document(page_content=\"actively participating in research and development projects. Excelling academically was \\na priority, but what truly drove me was the ability to apply theoretical knowledge to \\npractical problems. This academic success led me to receive one of the most prestigious \\nscholarships, His Majesty the King's Scholarship, awarded by the Royal Thai Government. \\nThis enabled me to take my education to the next level by pursuing a Master’s in Data \\nScience and Artiﬁcial Intelligence at the Asian Institute of Technology (AIT), Thailand, \\nwhere I began my studies in August 2024. The transition from undergraduate studies to a\", metadata={'source': 'usman_portfolio.pdf', 'file_path': 'usman_portfolio.pdf', 'page': 0, 'total_pages': 3, 'format': 'PDF 1.3', 'title': '', 'author': '', 'subject': '', 'keywords': '', 'creator': '', 'producer': 'macOS Version 14.6.1 (Build 23G93) Quartz PDFContext', 'creationDate': \"D:20250316175958Z00'00'\", 'modDate': \"D:20250316175958Z00'00'\", 'trapped': ''}),\n",
       "  Document(page_content='As I navigate my master’s program in Data Science and AI, my research interests continue \\nto evolve. I am particularly intrigued by the ﬁeld of Natural Language Processing (NLP), \\ndeep learning, and AI-driven decision-making systems. During my time at AIT, I aim to \\nwork on projects related to NLP, speech recognition, and AI ethics. My ultimate goal is to \\ncontribute to research that enhances AI’s ability to understand human language with \\ngreater accuracy while minimizing biases in language models. Additionally, I am \\ninterested in exploring how AI can be used in automated anomaly detection, \\ncybersecurity, and predictive analytics. This aligns with my career aspirations of working', metadata={'source': 'usman_portfolio.pdf', 'file_path': 'usman_portfolio.pdf', 'page': 1, 'total_pages': 3, 'format': 'PDF 1.3', 'title': '', 'author': '', 'subject': '', 'keywords': '', 'creator': '', 'producer': 'macOS Version 14.6.1 (Build 23G93) Quartz PDFContext', 'creationDate': \"D:20250316175958Z00'00'\", 'modDate': \"D:20250316175958Z00'00'\", 'trapped': ''})],\n",
       " 'question': 'What is your birth date?',\n",
       " 'output_text': '<pad>  September  24,  1995\\n'}"
      ]
     },
     "execution_count": 31,
     "metadata": {},
     "output_type": "execute_result"
    }
   ],
   "source": [
    "query = \"What is your birth date?\"\n",
    "input_document = retriever.get_relevant_documents(query)\n",
    "\n",
    "doc_chain({'input_documents':input_document, 'question':query})"
   ]
  },
  {
   "cell_type": "code",
   "execution_count": 32,
   "metadata": {},
   "outputs": [
    {
     "data": {
      "text/plain": [
       "ConversationalRetrievalChain(memory=ConversationBufferWindowMemory(output_key='answer', return_messages=True, memory_key='chat_history', k=3), verbose=True, combine_docs_chain=StuffDocumentsChain(verbose=True, llm_chain=LLMChain(verbose=True, prompt=PromptTemplate(input_variables=['context', 'question'], template=\"I'm your friendly AI bot I will try to answer your questions especially about Usman\\n    {context}\\n    Question: {question}\\n    Answer:\"), llm=HuggingFacePipeline(pipeline=<transformers.pipelines.text2text_generation.Text2TextGenerationPipeline object at 0x32da5e8e0>)), document_variable_name='context'), question_generator=LLMChain(verbose=True, prompt=PromptTemplate(input_variables=['chat_history', 'question'], template='Given the following conversation and a follow up question, rephrase the follow up question to be a standalone question, in its original language.\\n\\nChat History:\\n{chat_history}\\nFollow Up Input: {question}\\nStandalone question:'), llm=HuggingFacePipeline(pipeline=<transformers.pipelines.text2text_generation.Text2TextGenerationPipeline object at 0x32da5e8e0>)), return_source_documents=True, get_chat_history=<function <lambda> at 0x3183ec670>, retriever=VectorStoreRetriever(tags=['FAISS', 'HuggingFaceInstructEmbeddings'], vectorstore=<langchain_community.vectorstores.faiss.FAISS object at 0x144799760>))"
      ]
     },
     "execution_count": 32,
     "metadata": {},
     "output_type": "execute_result"
    }
   ],
   "source": [
    "memory = ConversationBufferWindowMemory(\n",
    "    k=3, \n",
    "    memory_key = \"chat_history\",\n",
    "    return_messages = True,\n",
    "    output_key = 'answer'\n",
    ")\n",
    "\n",
    "chain = ConversationalRetrievalChain(\n",
    "    retriever=retriever,\n",
    "    question_generator=question_generator,\n",
    "    combine_docs_chain=doc_chain,\n",
    "    return_source_documents=True,\n",
    "    memory=memory,\n",
    "    verbose=True,\n",
    "    get_chat_history=lambda h : h\n",
    ")\n",
    "chain"
   ]
  },
  {
   "attachments": {},
   "cell_type": "markdown",
   "metadata": {},
   "source": [
    "## 5. Chatbot"
   ]
  },
  {
   "cell_type": "code",
   "execution_count": 33,
   "metadata": {},
   "outputs": [
    {
     "name": "stdout",
     "output_type": "stream",
     "text": [
      "\n",
      "\n",
      "\u001b[1m> Entering new ConversationalRetrievalChain chain...\u001b[0m\n",
      "\n",
      "\n",
      "\u001b[1m> Entering new StuffDocumentsChain chain...\u001b[0m\n",
      "\n",
      "\n",
      "\u001b[1m> Entering new LLMChain chain...\u001b[0m\n",
      "Prompt after formatting:\n",
      "\u001b[32;1m\u001b[1;3mI'm your friendly AI bot I will try to answer your questions especially about Usman\n",
      "    Usman’s Portfolio \n",
      "Technology has always been a transformative force, shaping societies in unprecedented \n",
      "ways and redeﬁning how we interact, conduct business, and solve real-world problems. \n",
      "My passion for technology and software engineering has been a deﬁning aspect of my \n",
      "journey, leading me to where I am today. Born on September 24, 1995, I have spent my \n",
      "years constantly evolving with the technological landscape, embracing challenges, and \n",
      "continuously learning. With nearly 29 years of life experience, I have always been \n",
      "fascinated by how software, artiﬁcial intelligence, and cloud computing contribute to \n",
      "shaping industries and making life more eIicient.\n",
      "\n",
      "where I began my studies in August 2024. The transition from undergraduate studies to a \n",
      "master’s program was both exciting and challenging. The most demanding aspect of my \n",
      "graduate studies so far has been the depth of mathematical and statistical foundations \n",
      "required for AI and machine learning. While I had previously worked with data analytics \n",
      "and machine learning models, the master’s program requires an even deeper \n",
      "understanding of complex algorithms, optimization techniques, and real-world \n",
      "applications. Balancing research, coursework, and practical projects has been a \n",
      "demanding yet fulﬁlling experience.\n",
      "\n",
      "demanding yet fulﬁlling experience. \n",
      "With over two years of professional work experience, I have gained hands-on exposure to \n",
      "various aspects of software engineering. Currently, I am employed as a Software \n",
      "Engineer at HotelKey, a US-based company, where I work remotely, contributing to a \n",
      "highly dynamic and innovative environment. Before this, I served as an Associate \n",
      "Software Engineer at the same company, progressing in my role due to my contributions \n",
      "and ability to handle complex technical challenges. My work primarily revolves around \n",
      "developing and maintaining RESTful APIs, cloud-based architectures, and scalable\n",
      "\n",
      "actively participating in research and development projects. Excelling academically was \n",
      "a priority, but what truly drove me was the ability to apply theoretical knowledge to \n",
      "practical problems. This academic success led me to receive one of the most prestigious \n",
      "scholarships, His Majesty the King's Scholarship, awarded by the Royal Thai Government. \n",
      "This enabled me to take my education to the next level by pursuing a Master’s in Data \n",
      "Science and Artiﬁcial Intelligence at the Asian Institute of Technology (AIT), Thailand, \n",
      "where I began my studies in August 2024. The transition from undergraduate studies to a\n",
      "    Question: How old are you?\n",
      "    Answer:\u001b[0m\n",
      "\n",
      "\u001b[1m> Finished chain.\u001b[0m\n",
      "\n",
      "\u001b[1m> Finished chain.\u001b[0m\n",
      "\n",
      "\u001b[1m> Finished chain.\u001b[0m\n"
     ]
    },
    {
     "data": {
      "text/plain": [
       "{'question': 'How old are you?',\n",
       " 'chat_history': [],\n",
       " 'answer': '<pad>  I  am  29  years  old.\\n',\n",
       " 'source_documents': [Document(page_content='Usman’s Portfolio \\nTechnology has always been a transformative force, shaping societies in unprecedented \\nways and redeﬁning how we interact, conduct business, and solve real-world problems. \\nMy passion for technology and software engineering has been a deﬁning aspect of my \\njourney, leading me to where I am today. Born on September 24, 1995, I have spent my \\nyears constantly evolving with the technological landscape, embracing challenges, and \\ncontinuously learning. With nearly 29 years of life experience, I have always been \\nfascinated by how software, artiﬁcial intelligence, and cloud computing contribute to \\nshaping industries and making life more eIicient.', metadata={'source': 'usman_portfolio.pdf', 'file_path': 'usman_portfolio.pdf', 'page': 0, 'total_pages': 3, 'format': 'PDF 1.3', 'title': '', 'author': '', 'subject': '', 'keywords': '', 'creator': '', 'producer': 'macOS Version 14.6.1 (Build 23G93) Quartz PDFContext', 'creationDate': \"D:20250316175958Z00'00'\", 'modDate': \"D:20250316175958Z00'00'\", 'trapped': ''}),\n",
       "  Document(page_content='where I began my studies in August 2024. The transition from undergraduate studies to a \\nmaster’s program was both exciting and challenging. The most demanding aspect of my \\ngraduate studies so far has been the depth of mathematical and statistical foundations \\nrequired for AI and machine learning. While I had previously worked with data analytics \\nand machine learning models, the master’s program requires an even deeper \\nunderstanding of complex algorithms, optimization techniques, and real-world \\napplications. Balancing research, coursework, and practical projects has been a \\ndemanding yet fulﬁlling experience.', metadata={'source': 'usman_portfolio.pdf', 'file_path': 'usman_portfolio.pdf', 'page': 0, 'total_pages': 3, 'format': 'PDF 1.3', 'title': '', 'author': '', 'subject': '', 'keywords': '', 'creator': '', 'producer': 'macOS Version 14.6.1 (Build 23G93) Quartz PDFContext', 'creationDate': \"D:20250316175958Z00'00'\", 'modDate': \"D:20250316175958Z00'00'\", 'trapped': ''}),\n",
       "  Document(page_content='demanding yet fulﬁlling experience. \\nWith over two years of professional work experience, I have gained hands-on exposure to \\nvarious aspects of software engineering. Currently, I am employed as a Software \\nEngineer at HotelKey, a US-based company, where I work remotely, contributing to a \\nhighly dynamic and innovative environment. Before this, I served as an Associate \\nSoftware Engineer at the same company, progressing in my role due to my contributions \\nand ability to handle complex technical challenges. My work primarily revolves around \\ndeveloping and maintaining RESTful APIs, cloud-based architectures, and scalable', metadata={'source': 'usman_portfolio.pdf', 'file_path': 'usman_portfolio.pdf', 'page': 0, 'total_pages': 3, 'format': 'PDF 1.3', 'title': '', 'author': '', 'subject': '', 'keywords': '', 'creator': '', 'producer': 'macOS Version 14.6.1 (Build 23G93) Quartz PDFContext', 'creationDate': \"D:20250316175958Z00'00'\", 'modDate': \"D:20250316175958Z00'00'\", 'trapped': ''}),\n",
       "  Document(page_content=\"actively participating in research and development projects. Excelling academically was \\na priority, but what truly drove me was the ability to apply theoretical knowledge to \\npractical problems. This academic success led me to receive one of the most prestigious \\nscholarships, His Majesty the King's Scholarship, awarded by the Royal Thai Government. \\nThis enabled me to take my education to the next level by pursuing a Master’s in Data \\nScience and Artiﬁcial Intelligence at the Asian Institute of Technology (AIT), Thailand, \\nwhere I began my studies in August 2024. The transition from undergraduate studies to a\", metadata={'source': 'usman_portfolio.pdf', 'file_path': 'usman_portfolio.pdf', 'page': 0, 'total_pages': 3, 'format': 'PDF 1.3', 'title': '', 'author': '', 'subject': '', 'keywords': '', 'creator': '', 'producer': 'macOS Version 14.6.1 (Build 23G93) Quartz PDFContext', 'creationDate': \"D:20250316175958Z00'00'\", 'modDate': \"D:20250316175958Z00'00'\", 'trapped': ''})]}"
      ]
     },
     "execution_count": 33,
     "metadata": {},
     "output_type": "execute_result"
    }
   ],
   "source": [
    "prompt_question = \"How old are you?\"\n",
    "answer = chain({\"question\": prompt_question})\n",
    "answer"
   ]
  },
  {
   "cell_type": "code",
   "execution_count": 34,
   "metadata": {},
   "outputs": [
    {
     "name": "stdout",
     "output_type": "stream",
     "text": [
      "\n",
      "\n",
      "\u001b[1m> Entering new ConversationalRetrievalChain chain...\u001b[0m\n",
      "\n",
      "\n",
      "\u001b[1m> Entering new LLMChain chain...\u001b[0m\n",
      "Prompt after formatting:\n",
      "\u001b[32;1m\u001b[1;3mGiven the following conversation and a follow up question, rephrase the follow up question to be a standalone question, in its original language.\n",
      "\n",
      "Chat History:\n",
      "[HumanMessage(content='How old are you?'), AIMessage(content='<pad>  I  am  29  years  old.\\n')]\n",
      "Follow Up Input: What is your highest level of education?\n",
      "Standalone question:\u001b[0m\n",
      "\n",
      "\u001b[1m> Finished chain.\u001b[0m\n",
      "\n",
      "\n",
      "\u001b[1m> Entering new StuffDocumentsChain chain...\u001b[0m\n",
      "\n",
      "\n",
      "\u001b[1m> Entering new LLMChain chain...\u001b[0m\n",
      "Prompt after formatting:\n",
      "\u001b[32;1m\u001b[1;3mI'm your friendly AI bot I will try to answer your questions especially about Usman\n",
      "    shaping industries and making life more eIicient. \n",
      "My academic journey began with a strong foundation in information technology. I pursued \n",
      "my Bachelor of Science in Information Technology at the University of the Punjab, a \n",
      "program that gave me the technical expertise and analytical skills necessary to succeed \n",
      "in the ﬁeld. Not only did I graduate with distinction, but I also achieved a CGPA of \n",
      "3.93/4.00, which earned me the honor of being a gold medalist. During my undergraduate \n",
      "years, I immersed myself in programming, databases, and cloud computing while \n",
      "actively participating in research and development projects. Excelling academically was\n",
      "\n",
      "actively participating in research and development projects. Excelling academically was \n",
      "a priority, but what truly drove me was the ability to apply theoretical knowledge to \n",
      "practical problems. This academic success led me to receive one of the most prestigious \n",
      "scholarships, His Majesty the King's Scholarship, awarded by the Royal Thai Government. \n",
      "This enabled me to take my education to the next level by pursuing a Master’s in Data \n",
      "Science and Artiﬁcial Intelligence at the Asian Institute of Technology (AIT), Thailand, \n",
      "where I began my studies in August 2024. The transition from undergraduate studies to a\n",
      "\n",
      "where I began my studies in August 2024. The transition from undergraduate studies to a \n",
      "master’s program was both exciting and challenging. The most demanding aspect of my \n",
      "graduate studies so far has been the depth of mathematical and statistical foundations \n",
      "required for AI and machine learning. While I had previously worked with data analytics \n",
      "and machine learning models, the master’s program requires an even deeper \n",
      "understanding of complex algorithms, optimization techniques, and real-world \n",
      "applications. Balancing research, coursework, and practical projects has been a \n",
      "demanding yet fulﬁlling experience.\n",
      "\n",
      "expertise. The transition from structured undergraduate education to self-driven \n",
      "research in a master’s program has been an eye-opening experience, pushing me to think \n",
      "critically and explore innovative AI solutions to real-world problems. \n",
      "Looking ahead, I am committed to furthering my knowledge and expertise in AI, software \n",
      "engineering, and cloud technologies. I envision myself contributing to groundbreaking AI \n",
      "applications that revolutionize industries while upholding ethical AI practices and \n",
      "inclusive technological development. As I continue my journey in data science and AI \n",
      "research, I remain excited about the endless possibilities that lie ahead and eager to\n",
      "    Question: <pad> What  is  your  highest  level  of  education?\n",
      "\n",
      "    Answer:\u001b[0m\n",
      "\n",
      "\u001b[1m> Finished chain.\u001b[0m\n",
      "\n",
      "\u001b[1m> Finished chain.\u001b[0m\n",
      "\n",
      "\u001b[1m> Finished chain.\u001b[0m\n"
     ]
    },
    {
     "data": {
      "text/plain": [
       "{'question': 'What is your highest level of education?',\n",
       " 'chat_history': [HumanMessage(content='How old are you?'),\n",
       "  AIMessage(content='<pad>  I  am  29  years  old.\\n')],\n",
       " 'answer': '<pad>  Master’s  in  Data  Science  and  Artificial  Intelligence\\n',\n",
       " 'source_documents': [Document(page_content='shaping industries and making life more eIicient. \\nMy academic journey began with a strong foundation in information technology. I pursued \\nmy Bachelor of Science in Information Technology at the University of the Punjab, a \\nprogram that gave me the technical expertise and analytical skills necessary to succeed \\nin the ﬁeld. Not only did I graduate with distinction, but I also achieved a CGPA of \\n3.93/4.00, which earned me the honor of being a gold medalist. During my undergraduate \\nyears, I immersed myself in programming, databases, and cloud computing while \\nactively participating in research and development projects. Excelling academically was', metadata={'source': 'usman_portfolio.pdf', 'file_path': 'usman_portfolio.pdf', 'page': 0, 'total_pages': 3, 'format': 'PDF 1.3', 'title': '', 'author': '', 'subject': '', 'keywords': '', 'creator': '', 'producer': 'macOS Version 14.6.1 (Build 23G93) Quartz PDFContext', 'creationDate': \"D:20250316175958Z00'00'\", 'modDate': \"D:20250316175958Z00'00'\", 'trapped': ''}),\n",
       "  Document(page_content=\"actively participating in research and development projects. Excelling academically was \\na priority, but what truly drove me was the ability to apply theoretical knowledge to \\npractical problems. This academic success led me to receive one of the most prestigious \\nscholarships, His Majesty the King's Scholarship, awarded by the Royal Thai Government. \\nThis enabled me to take my education to the next level by pursuing a Master’s in Data \\nScience and Artiﬁcial Intelligence at the Asian Institute of Technology (AIT), Thailand, \\nwhere I began my studies in August 2024. The transition from undergraduate studies to a\", metadata={'source': 'usman_portfolio.pdf', 'file_path': 'usman_portfolio.pdf', 'page': 0, 'total_pages': 3, 'format': 'PDF 1.3', 'title': '', 'author': '', 'subject': '', 'keywords': '', 'creator': '', 'producer': 'macOS Version 14.6.1 (Build 23G93) Quartz PDFContext', 'creationDate': \"D:20250316175958Z00'00'\", 'modDate': \"D:20250316175958Z00'00'\", 'trapped': ''}),\n",
       "  Document(page_content='where I began my studies in August 2024. The transition from undergraduate studies to a \\nmaster’s program was both exciting and challenging. The most demanding aspect of my \\ngraduate studies so far has been the depth of mathematical and statistical foundations \\nrequired for AI and machine learning. While I had previously worked with data analytics \\nand machine learning models, the master’s program requires an even deeper \\nunderstanding of complex algorithms, optimization techniques, and real-world \\napplications. Balancing research, coursework, and practical projects has been a \\ndemanding yet fulﬁlling experience.', metadata={'source': 'usman_portfolio.pdf', 'file_path': 'usman_portfolio.pdf', 'page': 0, 'total_pages': 3, 'format': 'PDF 1.3', 'title': '', 'author': '', 'subject': '', 'keywords': '', 'creator': '', 'producer': 'macOS Version 14.6.1 (Build 23G93) Quartz PDFContext', 'creationDate': \"D:20250316175958Z00'00'\", 'modDate': \"D:20250316175958Z00'00'\", 'trapped': ''}),\n",
       "  Document(page_content='expertise. The transition from structured undergraduate education to self-driven \\nresearch in a master’s program has been an eye-opening experience, pushing me to think \\ncritically and explore innovative AI solutions to real-world problems. \\nLooking ahead, I am committed to furthering my knowledge and expertise in AI, software \\nengineering, and cloud technologies. I envision myself contributing to groundbreaking AI \\napplications that revolutionize industries while upholding ethical AI practices and \\ninclusive technological development. As I continue my journey in data science and AI \\nresearch, I remain excited about the endless possibilities that lie ahead and eager to', metadata={'source': 'usman_portfolio.pdf', 'file_path': 'usman_portfolio.pdf', 'page': 2, 'total_pages': 3, 'format': 'PDF 1.3', 'title': '', 'author': '', 'subject': '', 'keywords': '', 'creator': '', 'producer': 'macOS Version 14.6.1 (Build 23G93) Quartz PDFContext', 'creationDate': \"D:20250316175958Z00'00'\", 'modDate': \"D:20250316175958Z00'00'\", 'trapped': ''})]}"
      ]
     },
     "execution_count": 34,
     "metadata": {},
     "output_type": "execute_result"
    }
   ],
   "source": [
    "prompt_question = \"What is your highest level of education?\"\n",
    "answer = chain({\"question\": prompt_question})\n",
    "answer"
   ]
  },
  {
   "cell_type": "code",
   "execution_count": 35,
   "metadata": {},
   "outputs": [
    {
     "name": "stdout",
     "output_type": "stream",
     "text": [
      "\n",
      "\n",
      "\u001b[1m> Entering new ConversationalRetrievalChain chain...\u001b[0m\n",
      "\n",
      "\n",
      "\u001b[1m> Entering new LLMChain chain...\u001b[0m\n",
      "Prompt after formatting:\n",
      "\u001b[32;1m\u001b[1;3mGiven the following conversation and a follow up question, rephrase the follow up question to be a standalone question, in its original language.\n",
      "\n",
      "Chat History:\n",
      "[HumanMessage(content='How old are you?'), AIMessage(content='<pad>  I  am  29  years  old.\\n'), HumanMessage(content='What is your highest level of education?'), AIMessage(content='<pad>  Master’s  in  Data  Science  and  Artificial  Intelligence\\n')]\n",
      "Follow Up Input: What major or field of study did you pursue during your education?\n",
      "Standalone question:\u001b[0m\n",
      "\n",
      "\u001b[1m> Finished chain.\u001b[0m\n",
      "\n",
      "\n",
      "\u001b[1m> Entering new StuffDocumentsChain chain...\u001b[0m\n",
      "\n",
      "\n",
      "\u001b[1m> Entering new LLMChain chain...\u001b[0m\n",
      "Prompt after formatting:\n",
      "\u001b[32;1m\u001b[1;3mI'm your friendly AI bot I will try to answer your questions especially about Usman\n",
      "    shaping industries and making life more eIicient. \n",
      "My academic journey began with a strong foundation in information technology. I pursued \n",
      "my Bachelor of Science in Information Technology at the University of the Punjab, a \n",
      "program that gave me the technical expertise and analytical skills necessary to succeed \n",
      "in the ﬁeld. Not only did I graduate with distinction, but I also achieved a CGPA of \n",
      "3.93/4.00, which earned me the honor of being a gold medalist. During my undergraduate \n",
      "years, I immersed myself in programming, databases, and cloud computing while \n",
      "actively participating in research and development projects. Excelling academically was\n",
      "\n",
      "actively participating in research and development projects. Excelling academically was \n",
      "a priority, but what truly drove me was the ability to apply theoretical knowledge to \n",
      "practical problems. This academic success led me to receive one of the most prestigious \n",
      "scholarships, His Majesty the King's Scholarship, awarded by the Royal Thai Government. \n",
      "This enabled me to take my education to the next level by pursuing a Master’s in Data \n",
      "Science and Artiﬁcial Intelligence at the Asian Institute of Technology (AIT), Thailand, \n",
      "where I began my studies in August 2024. The transition from undergraduate studies to a\n",
      "\n",
      "where I began my studies in August 2024. The transition from undergraduate studies to a \n",
      "master’s program was both exciting and challenging. The most demanding aspect of my \n",
      "graduate studies so far has been the depth of mathematical and statistical foundations \n",
      "required for AI and machine learning. While I had previously worked with data analytics \n",
      "and machine learning models, the master’s program requires an even deeper \n",
      "understanding of complex algorithms, optimization techniques, and real-world \n",
      "applications. Balancing research, coursework, and practical projects has been a \n",
      "demanding yet fulﬁlling experience.\n",
      "\n",
      "expertise. The transition from structured undergraduate education to self-driven \n",
      "research in a master’s program has been an eye-opening experience, pushing me to think \n",
      "critically and explore innovative AI solutions to real-world problems. \n",
      "Looking ahead, I am committed to furthering my knowledge and expertise in AI, software \n",
      "engineering, and cloud technologies. I envision myself contributing to groundbreaking AI \n",
      "applications that revolutionize industries while upholding ethical AI practices and \n",
      "inclusive technological development. As I continue my journey in data science and AI \n",
      "research, I remain excited about the endless possibilities that lie ahead and eager to\n",
      "    Question: <pad> What  is  your  highest  level  of  education?\n",
      "\n",
      "    Answer:\u001b[0m\n",
      "\n",
      "\u001b[1m> Finished chain.\u001b[0m\n",
      "\n",
      "\u001b[1m> Finished chain.\u001b[0m\n",
      "\n",
      "\u001b[1m> Finished chain.\u001b[0m\n"
     ]
    },
    {
     "data": {
      "text/plain": [
       "{'question': 'What major or field of study did you pursue during your education?',\n",
       " 'chat_history': [HumanMessage(content='How old are you?'),\n",
       "  AIMessage(content='<pad>  I  am  29  years  old.\\n'),\n",
       "  HumanMessage(content='What is your highest level of education?'),\n",
       "  AIMessage(content='<pad>  Master’s  in  Data  Science  and  Artificial  Intelligence\\n')],\n",
       " 'answer': '<pad>  Master’s  in  Data  Science  and  Artificial  Intelligence\\n',\n",
       " 'source_documents': [Document(page_content='shaping industries and making life more eIicient. \\nMy academic journey began with a strong foundation in information technology. I pursued \\nmy Bachelor of Science in Information Technology at the University of the Punjab, a \\nprogram that gave me the technical expertise and analytical skills necessary to succeed \\nin the ﬁeld. Not only did I graduate with distinction, but I also achieved a CGPA of \\n3.93/4.00, which earned me the honor of being a gold medalist. During my undergraduate \\nyears, I immersed myself in programming, databases, and cloud computing while \\nactively participating in research and development projects. Excelling academically was', metadata={'source': 'usman_portfolio.pdf', 'file_path': 'usman_portfolio.pdf', 'page': 0, 'total_pages': 3, 'format': 'PDF 1.3', 'title': '', 'author': '', 'subject': '', 'keywords': '', 'creator': '', 'producer': 'macOS Version 14.6.1 (Build 23G93) Quartz PDFContext', 'creationDate': \"D:20250316175958Z00'00'\", 'modDate': \"D:20250316175958Z00'00'\", 'trapped': ''}),\n",
       "  Document(page_content=\"actively participating in research and development projects. Excelling academically was \\na priority, but what truly drove me was the ability to apply theoretical knowledge to \\npractical problems. This academic success led me to receive one of the most prestigious \\nscholarships, His Majesty the King's Scholarship, awarded by the Royal Thai Government. \\nThis enabled me to take my education to the next level by pursuing a Master’s in Data \\nScience and Artiﬁcial Intelligence at the Asian Institute of Technology (AIT), Thailand, \\nwhere I began my studies in August 2024. The transition from undergraduate studies to a\", metadata={'source': 'usman_portfolio.pdf', 'file_path': 'usman_portfolio.pdf', 'page': 0, 'total_pages': 3, 'format': 'PDF 1.3', 'title': '', 'author': '', 'subject': '', 'keywords': '', 'creator': '', 'producer': 'macOS Version 14.6.1 (Build 23G93) Quartz PDFContext', 'creationDate': \"D:20250316175958Z00'00'\", 'modDate': \"D:20250316175958Z00'00'\", 'trapped': ''}),\n",
       "  Document(page_content='where I began my studies in August 2024. The transition from undergraduate studies to a \\nmaster’s program was both exciting and challenging. The most demanding aspect of my \\ngraduate studies so far has been the depth of mathematical and statistical foundations \\nrequired for AI and machine learning. While I had previously worked with data analytics \\nand machine learning models, the master’s program requires an even deeper \\nunderstanding of complex algorithms, optimization techniques, and real-world \\napplications. Balancing research, coursework, and practical projects has been a \\ndemanding yet fulﬁlling experience.', metadata={'source': 'usman_portfolio.pdf', 'file_path': 'usman_portfolio.pdf', 'page': 0, 'total_pages': 3, 'format': 'PDF 1.3', 'title': '', 'author': '', 'subject': '', 'keywords': '', 'creator': '', 'producer': 'macOS Version 14.6.1 (Build 23G93) Quartz PDFContext', 'creationDate': \"D:20250316175958Z00'00'\", 'modDate': \"D:20250316175958Z00'00'\", 'trapped': ''}),\n",
       "  Document(page_content='expertise. The transition from structured undergraduate education to self-driven \\nresearch in a master’s program has been an eye-opening experience, pushing me to think \\ncritically and explore innovative AI solutions to real-world problems. \\nLooking ahead, I am committed to furthering my knowledge and expertise in AI, software \\nengineering, and cloud technologies. I envision myself contributing to groundbreaking AI \\napplications that revolutionize industries while upholding ethical AI practices and \\ninclusive technological development. As I continue my journey in data science and AI \\nresearch, I remain excited about the endless possibilities that lie ahead and eager to', metadata={'source': 'usman_portfolio.pdf', 'file_path': 'usman_portfolio.pdf', 'page': 2, 'total_pages': 3, 'format': 'PDF 1.3', 'title': '', 'author': '', 'subject': '', 'keywords': '', 'creator': '', 'producer': 'macOS Version 14.6.1 (Build 23G93) Quartz PDFContext', 'creationDate': \"D:20250316175958Z00'00'\", 'modDate': \"D:20250316175958Z00'00'\", 'trapped': ''})]}"
      ]
     },
     "execution_count": 35,
     "metadata": {},
     "output_type": "execute_result"
    }
   ],
   "source": [
    "prompt_question = \"What major or field of study did you pursue during your education?\"\n",
    "answer = chain({\"question\": prompt_question})\n",
    "answer"
   ]
  },
  {
   "cell_type": "code",
   "execution_count": 36,
   "metadata": {},
   "outputs": [
    {
     "name": "stdout",
     "output_type": "stream",
     "text": [
      "\n",
      "\n",
      "\u001b[1m> Entering new ConversationalRetrievalChain chain...\u001b[0m\n",
      "\n",
      "\n",
      "\u001b[1m> Entering new LLMChain chain...\u001b[0m\n",
      "Prompt after formatting:\n",
      "\u001b[32;1m\u001b[1;3mGiven the following conversation and a follow up question, rephrase the follow up question to be a standalone question, in its original language.\n",
      "\n",
      "Chat History:\n",
      "[HumanMessage(content='How old are you?'), AIMessage(content='<pad>  I  am  29  years  old.\\n'), HumanMessage(content='What is your highest level of education?'), AIMessage(content='<pad>  Master’s  in  Data  Science  and  Artificial  Intelligence\\n'), HumanMessage(content='What major or field of study did you pursue during your education?'), AIMessage(content='<pad>  Master’s  in  Data  Science  and  Artificial  Intelligence\\n')]\n",
      "Follow Up Input: How many years of work experience do you have?\n",
      "Standalone question:\u001b[0m\n",
      "\n",
      "\u001b[1m> Finished chain.\u001b[0m\n",
      "\n",
      "\n",
      "\u001b[1m> Entering new StuffDocumentsChain chain...\u001b[0m\n",
      "\n",
      "\n",
      "\u001b[1m> Entering new LLMChain chain...\u001b[0m\n",
      "Prompt after formatting:\n",
      "\u001b[32;1m\u001b[1;3mI'm your friendly AI bot I will try to answer your questions especially about Usman\n",
      "    demanding yet fulﬁlling experience. \n",
      "With over two years of professional work experience, I have gained hands-on exposure to \n",
      "various aspects of software engineering. Currently, I am employed as a Software \n",
      "Engineer at HotelKey, a US-based company, where I work remotely, contributing to a \n",
      "highly dynamic and innovative environment. Before this, I served as an Associate \n",
      "Software Engineer at the same company, progressing in my role due to my contributions \n",
      "and ability to handle complex technical challenges. My work primarily revolves around \n",
      "developing and maintaining RESTful APIs, cloud-based architectures, and scalable\n",
      "\n",
      "shaping industries and making life more eIicient. \n",
      "My academic journey began with a strong foundation in information technology. I pursued \n",
      "my Bachelor of Science in Information Technology at the University of the Punjab, a \n",
      "program that gave me the technical expertise and analytical skills necessary to succeed \n",
      "in the ﬁeld. Not only did I graduate with distinction, but I also achieved a CGPA of \n",
      "3.93/4.00, which earned me the honor of being a gold medalist. During my undergraduate \n",
      "years, I immersed myself in programming, databases, and cloud computing while \n",
      "actively participating in research and development projects. Excelling academically was\n",
      "\n",
      "expertise. The transition from structured undergraduate education to self-driven \n",
      "research in a master’s program has been an eye-opening experience, pushing me to think \n",
      "critically and explore innovative AI solutions to real-world problems. \n",
      "Looking ahead, I am committed to furthering my knowledge and expertise in AI, software \n",
      "engineering, and cloud technologies. I envision myself contributing to groundbreaking AI \n",
      "applications that revolutionize industries while upholding ethical AI practices and \n",
      "inclusive technological development. As I continue my journey in data science and AI \n",
      "research, I remain excited about the endless possibilities that lie ahead and eager to\n",
      "\n",
      "where I began my studies in August 2024. The transition from undergraduate studies to a \n",
      "master’s program was both exciting and challenging. The most demanding aspect of my \n",
      "graduate studies so far has been the depth of mathematical and statistical foundations \n",
      "required for AI and machine learning. While I had previously worked with data analytics \n",
      "and machine learning models, the master’s program requires an even deeper \n",
      "understanding of complex algorithms, optimization techniques, and real-world \n",
      "applications. Balancing research, coursework, and practical projects has been a \n",
      "demanding yet fulﬁlling experience.\n",
      "    Question: <pad>  How  many  years  of  work  experience  do  you  have?\n",
      "\n",
      "    Answer:\u001b[0m\n",
      "\n",
      "\u001b[1m> Finished chain.\u001b[0m\n",
      "\n",
      "\u001b[1m> Finished chain.\u001b[0m\n",
      "\n",
      "\u001b[1m> Finished chain.\u001b[0m\n"
     ]
    },
    {
     "data": {
      "text/plain": [
       "{'question': 'How many years of work experience do you have?',\n",
       " 'chat_history': [HumanMessage(content='How old are you?'),\n",
       "  AIMessage(content='<pad>  I  am  29  years  old.\\n'),\n",
       "  HumanMessage(content='What is your highest level of education?'),\n",
       "  AIMessage(content='<pad>  Master’s  in  Data  Science  and  Artificial  Intelligence\\n'),\n",
       "  HumanMessage(content='What major or field of study did you pursue during your education?'),\n",
       "  AIMessage(content='<pad>  Master’s  in  Data  Science  and  Artificial  Intelligence\\n')],\n",
       " 'answer': '<pad>  I  have  over  two  years  of  work  experience.\\n',\n",
       " 'source_documents': [Document(page_content='demanding yet fulﬁlling experience. \\nWith over two years of professional work experience, I have gained hands-on exposure to \\nvarious aspects of software engineering. Currently, I am employed as a Software \\nEngineer at HotelKey, a US-based company, where I work remotely, contributing to a \\nhighly dynamic and innovative environment. Before this, I served as an Associate \\nSoftware Engineer at the same company, progressing in my role due to my contributions \\nand ability to handle complex technical challenges. My work primarily revolves around \\ndeveloping and maintaining RESTful APIs, cloud-based architectures, and scalable', metadata={'source': 'usman_portfolio.pdf', 'file_path': 'usman_portfolio.pdf', 'page': 0, 'total_pages': 3, 'format': 'PDF 1.3', 'title': '', 'author': '', 'subject': '', 'keywords': '', 'creator': '', 'producer': 'macOS Version 14.6.1 (Build 23G93) Quartz PDFContext', 'creationDate': \"D:20250316175958Z00'00'\", 'modDate': \"D:20250316175958Z00'00'\", 'trapped': ''}),\n",
       "  Document(page_content='shaping industries and making life more eIicient. \\nMy academic journey began with a strong foundation in information technology. I pursued \\nmy Bachelor of Science in Information Technology at the University of the Punjab, a \\nprogram that gave me the technical expertise and analytical skills necessary to succeed \\nin the ﬁeld. Not only did I graduate with distinction, but I also achieved a CGPA of \\n3.93/4.00, which earned me the honor of being a gold medalist. During my undergraduate \\nyears, I immersed myself in programming, databases, and cloud computing while \\nactively participating in research and development projects. Excelling academically was', metadata={'source': 'usman_portfolio.pdf', 'file_path': 'usman_portfolio.pdf', 'page': 0, 'total_pages': 3, 'format': 'PDF 1.3', 'title': '', 'author': '', 'subject': '', 'keywords': '', 'creator': '', 'producer': 'macOS Version 14.6.1 (Build 23G93) Quartz PDFContext', 'creationDate': \"D:20250316175958Z00'00'\", 'modDate': \"D:20250316175958Z00'00'\", 'trapped': ''}),\n",
       "  Document(page_content='expertise. The transition from structured undergraduate education to self-driven \\nresearch in a master’s program has been an eye-opening experience, pushing me to think \\ncritically and explore innovative AI solutions to real-world problems. \\nLooking ahead, I am committed to furthering my knowledge and expertise in AI, software \\nengineering, and cloud technologies. I envision myself contributing to groundbreaking AI \\napplications that revolutionize industries while upholding ethical AI practices and \\ninclusive technological development. As I continue my journey in data science and AI \\nresearch, I remain excited about the endless possibilities that lie ahead and eager to', metadata={'source': 'usman_portfolio.pdf', 'file_path': 'usman_portfolio.pdf', 'page': 2, 'total_pages': 3, 'format': 'PDF 1.3', 'title': '', 'author': '', 'subject': '', 'keywords': '', 'creator': '', 'producer': 'macOS Version 14.6.1 (Build 23G93) Quartz PDFContext', 'creationDate': \"D:20250316175958Z00'00'\", 'modDate': \"D:20250316175958Z00'00'\", 'trapped': ''}),\n",
       "  Document(page_content='where I began my studies in August 2024. The transition from undergraduate studies to a \\nmaster’s program was both exciting and challenging. The most demanding aspect of my \\ngraduate studies so far has been the depth of mathematical and statistical foundations \\nrequired for AI and machine learning. While I had previously worked with data analytics \\nand machine learning models, the master’s program requires an even deeper \\nunderstanding of complex algorithms, optimization techniques, and real-world \\napplications. Balancing research, coursework, and practical projects has been a \\ndemanding yet fulﬁlling experience.', metadata={'source': 'usman_portfolio.pdf', 'file_path': 'usman_portfolio.pdf', 'page': 0, 'total_pages': 3, 'format': 'PDF 1.3', 'title': '', 'author': '', 'subject': '', 'keywords': '', 'creator': '', 'producer': 'macOS Version 14.6.1 (Build 23G93) Quartz PDFContext', 'creationDate': \"D:20250316175958Z00'00'\", 'modDate': \"D:20250316175958Z00'00'\", 'trapped': ''})]}"
      ]
     },
     "execution_count": 36,
     "metadata": {},
     "output_type": "execute_result"
    }
   ],
   "source": [
    "prompt_question = \"How many years of work experience do you have?\"\n",
    "answer = chain({\"question\": prompt_question})\n",
    "answer"
   ]
  },
  {
   "cell_type": "code",
   "execution_count": 37,
   "metadata": {},
   "outputs": [
    {
     "name": "stdout",
     "output_type": "stream",
     "text": [
      "\n",
      "\n",
      "\u001b[1m> Entering new ConversationalRetrievalChain chain...\u001b[0m\n",
      "\n",
      "\n",
      "\u001b[1m> Entering new LLMChain chain...\u001b[0m\n",
      "Prompt after formatting:\n",
      "\u001b[32;1m\u001b[1;3mGiven the following conversation and a follow up question, rephrase the follow up question to be a standalone question, in its original language.\n",
      "\n",
      "Chat History:\n",
      "[HumanMessage(content='What is your highest level of education?'), AIMessage(content='<pad>  Master’s  in  Data  Science  and  Artificial  Intelligence\\n'), HumanMessage(content='What major or field of study did you pursue during your education?'), AIMessage(content='<pad>  Master’s  in  Data  Science  and  Artificial  Intelligence\\n'), HumanMessage(content='How many years of work experience do you have?'), AIMessage(content='<pad>  I  have  over  two  years  of  work  experience.\\n')]\n",
      "Follow Up Input: What type of work or industry have you been involved in?\n",
      "Standalone question:\u001b[0m\n",
      "\n",
      "\u001b[1m> Finished chain.\u001b[0m\n",
      "\n",
      "\n",
      "\u001b[1m> Entering new StuffDocumentsChain chain...\u001b[0m\n",
      "\n",
      "\n",
      "\u001b[1m> Entering new LLMChain chain...\u001b[0m\n",
      "Prompt after formatting:\n",
      "\u001b[32;1m\u001b[1;3mI'm your friendly AI bot I will try to answer your questions especially about Usman\n",
      "    demanding yet fulﬁlling experience. \n",
      "With over two years of professional work experience, I have gained hands-on exposure to \n",
      "various aspects of software engineering. Currently, I am employed as a Software \n",
      "Engineer at HotelKey, a US-based company, where I work remotely, contributing to a \n",
      "highly dynamic and innovative environment. Before this, I served as an Associate \n",
      "Software Engineer at the same company, progressing in my role due to my contributions \n",
      "and ability to handle complex technical challenges. My work primarily revolves around \n",
      "developing and maintaining RESTful APIs, cloud-based architectures, and scalable\n",
      "\n",
      "shaping industries and making life more eIicient. \n",
      "My academic journey began with a strong foundation in information technology. I pursued \n",
      "my Bachelor of Science in Information Technology at the University of the Punjab, a \n",
      "program that gave me the technical expertise and analytical skills necessary to succeed \n",
      "in the ﬁeld. Not only did I graduate with distinction, but I also achieved a CGPA of \n",
      "3.93/4.00, which earned me the honor of being a gold medalist. During my undergraduate \n",
      "years, I immersed myself in programming, databases, and cloud computing while \n",
      "actively participating in research and development projects. Excelling academically was\n",
      "\n",
      "architectures in the software industry. \n",
      "The tech industry is one of the most dynamic ﬁelds, constantly evolving with new trends, \n",
      "frameworks, and paradigms. My professional experiences have not only enhanced my \n",
      "technical skills but also shaped my core beliefs regarding the role of technology in \n",
      "society. I ﬁrmly believe that technology should be developed with the intention of \n",
      "improving lives, solving real-world challenges, and fostering inclusivity. While AI and \n",
      "automation can optimize processes and drive eIiciency, they should also be designed \n",
      "with ethical considerations, ensuring that advancements do not contribute to inequality\n",
      "\n",
      "cybersecurity, and predictive analytics. This aligns with my career aspirations of working \n",
      "at the intersection of data science, AI, and cloud computing to build intelligent, eIicient, \n",
      "and responsible AI solutions. \n",
      "Despite my technical expertise and professional achievements, I remain a lifelong \n",
      "learner. The technology landscape is constantly shifting, and keeping up with the latest \n",
      "tools, frameworks, and methodologies is essential. In my role, I utilize IntelliJ, Postman, \n",
      "Charles, Jira, Conﬂuence, and Visual Studio to streamline development workﬂows. I have \n",
      "worked with design patterns like Singleton, Factory, Builder, Observer, Adapter,\n",
      "    Question: <pad> What  type  of  work  or  industry  have  you  been  involved  in?\n",
      "\n",
      "    Answer:\u001b[0m\n",
      "\n",
      "\u001b[1m> Finished chain.\u001b[0m\n",
      "\n",
      "\u001b[1m> Finished chain.\u001b[0m\n",
      "\n",
      "\u001b[1m> Finished chain.\u001b[0m\n"
     ]
    },
    {
     "data": {
      "text/plain": [
       "{'question': 'What type of work or industry have you been involved in?',\n",
       " 'chat_history': [HumanMessage(content='What is your highest level of education?'),\n",
       "  AIMessage(content='<pad>  Master’s  in  Data  Science  and  Artificial  Intelligence\\n'),\n",
       "  HumanMessage(content='What major or field of study did you pursue during your education?'),\n",
       "  AIMessage(content='<pad>  Master’s  in  Data  Science  and  Artificial  Intelligence\\n'),\n",
       "  HumanMessage(content='How many years of work experience do you have?'),\n",
       "  AIMessage(content='<pad>  I  have  over  two  years  of  work  experience.\\n')],\n",
       " 'answer': '<pad>  Software  Engineering\\n',\n",
       " 'source_documents': [Document(page_content='demanding yet fulﬁlling experience. \\nWith over two years of professional work experience, I have gained hands-on exposure to \\nvarious aspects of software engineering. Currently, I am employed as a Software \\nEngineer at HotelKey, a US-based company, where I work remotely, contributing to a \\nhighly dynamic and innovative environment. Before this, I served as an Associate \\nSoftware Engineer at the same company, progressing in my role due to my contributions \\nand ability to handle complex technical challenges. My work primarily revolves around \\ndeveloping and maintaining RESTful APIs, cloud-based architectures, and scalable', metadata={'source': 'usman_portfolio.pdf', 'file_path': 'usman_portfolio.pdf', 'page': 0, 'total_pages': 3, 'format': 'PDF 1.3', 'title': '', 'author': '', 'subject': '', 'keywords': '', 'creator': '', 'producer': 'macOS Version 14.6.1 (Build 23G93) Quartz PDFContext', 'creationDate': \"D:20250316175958Z00'00'\", 'modDate': \"D:20250316175958Z00'00'\", 'trapped': ''}),\n",
       "  Document(page_content='shaping industries and making life more eIicient. \\nMy academic journey began with a strong foundation in information technology. I pursued \\nmy Bachelor of Science in Information Technology at the University of the Punjab, a \\nprogram that gave me the technical expertise and analytical skills necessary to succeed \\nin the ﬁeld. Not only did I graduate with distinction, but I also achieved a CGPA of \\n3.93/4.00, which earned me the honor of being a gold medalist. During my undergraduate \\nyears, I immersed myself in programming, databases, and cloud computing while \\nactively participating in research and development projects. Excelling academically was', metadata={'source': 'usman_portfolio.pdf', 'file_path': 'usman_portfolio.pdf', 'page': 0, 'total_pages': 3, 'format': 'PDF 1.3', 'title': '', 'author': '', 'subject': '', 'keywords': '', 'creator': '', 'producer': 'macOS Version 14.6.1 (Build 23G93) Quartz PDFContext', 'creationDate': \"D:20250316175958Z00'00'\", 'modDate': \"D:20250316175958Z00'00'\", 'trapped': ''}),\n",
       "  Document(page_content='architectures in the software industry. \\nThe tech industry is one of the most dynamic ﬁelds, constantly evolving with new trends, \\nframeworks, and paradigms. My professional experiences have not only enhanced my \\ntechnical skills but also shaped my core beliefs regarding the role of technology in \\nsociety. I ﬁrmly believe that technology should be developed with the intention of \\nimproving lives, solving real-world challenges, and fostering inclusivity. While AI and \\nautomation can optimize processes and drive eIiciency, they should also be designed \\nwith ethical considerations, ensuring that advancements do not contribute to inequality', metadata={'source': 'usman_portfolio.pdf', 'file_path': 'usman_portfolio.pdf', 'page': 1, 'total_pages': 3, 'format': 'PDF 1.3', 'title': '', 'author': '', 'subject': '', 'keywords': '', 'creator': '', 'producer': 'macOS Version 14.6.1 (Build 23G93) Quartz PDFContext', 'creationDate': \"D:20250316175958Z00'00'\", 'modDate': \"D:20250316175958Z00'00'\", 'trapped': ''}),\n",
       "  Document(page_content='cybersecurity, and predictive analytics. This aligns with my career aspirations of working \\nat the intersection of data science, AI, and cloud computing to build intelligent, eIicient, \\nand responsible AI solutions. \\nDespite my technical expertise and professional achievements, I remain a lifelong \\nlearner. The technology landscape is constantly shifting, and keeping up with the latest \\ntools, frameworks, and methodologies is essential. In my role, I utilize IntelliJ, Postman, \\nCharles, Jira, Conﬂuence, and Visual Studio to streamline development workﬂows. I have \\nworked with design patterns like Singleton, Factory, Builder, Observer, Adapter,', metadata={'source': 'usman_portfolio.pdf', 'file_path': 'usman_portfolio.pdf', 'page': 1, 'total_pages': 3, 'format': 'PDF 1.3', 'title': '', 'author': '', 'subject': '', 'keywords': '', 'creator': '', 'producer': 'macOS Version 14.6.1 (Build 23G93) Quartz PDFContext', 'creationDate': \"D:20250316175958Z00'00'\", 'modDate': \"D:20250316175958Z00'00'\", 'trapped': ''})]}"
      ]
     },
     "execution_count": 37,
     "metadata": {},
     "output_type": "execute_result"
    }
   ],
   "source": [
    "prompt_question = \"What type of work or industry have you been involved in?\"\n",
    "answer = chain({\"question\": prompt_question})\n",
    "answer"
   ]
  },
  {
   "cell_type": "code",
   "execution_count": 38,
   "metadata": {},
   "outputs": [
    {
     "name": "stdout",
     "output_type": "stream",
     "text": [
      "\n",
      "\n",
      "\u001b[1m> Entering new ConversationalRetrievalChain chain...\u001b[0m\n",
      "\n",
      "\n",
      "\u001b[1m> Entering new LLMChain chain...\u001b[0m\n",
      "Prompt after formatting:\n",
      "\u001b[32;1m\u001b[1;3mGiven the following conversation and a follow up question, rephrase the follow up question to be a standalone question, in its original language.\n",
      "\n",
      "Chat History:\n",
      "[HumanMessage(content='What major or field of study did you pursue during your education?'), AIMessage(content='<pad>  Master’s  in  Data  Science  and  Artificial  Intelligence\\n'), HumanMessage(content='How many years of work experience do you have?'), AIMessage(content='<pad>  I  have  over  two  years  of  work  experience.\\n'), HumanMessage(content='What type of work or industry have you been involved in?'), AIMessage(content='<pad>  Software  Engineering\\n')]\n",
      "Follow Up Input: Can you describe your current role or job responsibilities?\n",
      "Standalone question:\u001b[0m\n",
      "\n",
      "\u001b[1m> Finished chain.\u001b[0m\n",
      "\n",
      "\n",
      "\u001b[1m> Entering new StuffDocumentsChain chain...\u001b[0m\n",
      "\n",
      "\n",
      "\u001b[1m> Entering new LLMChain chain...\u001b[0m\n",
      "Prompt after formatting:\n",
      "\u001b[32;1m\u001b[1;3mI'm your friendly AI bot I will try to answer your questions especially about Usman\n",
      "    cybersecurity, and predictive analytics. This aligns with my career aspirations of working \n",
      "at the intersection of data science, AI, and cloud computing to build intelligent, eIicient, \n",
      "and responsible AI solutions. \n",
      "Despite my technical expertise and professional achievements, I remain a lifelong \n",
      "learner. The technology landscape is constantly shifting, and keeping up with the latest \n",
      "tools, frameworks, and methodologies is essential. In my role, I utilize IntelliJ, Postman, \n",
      "Charles, Jira, Conﬂuence, and Visual Studio to streamline development workﬂows. I have \n",
      "worked with design patterns like Singleton, Factory, Builder, Observer, Adapter,\n",
      "\n",
      "demanding yet fulﬁlling experience. \n",
      "With over two years of professional work experience, I have gained hands-on exposure to \n",
      "various aspects of software engineering. Currently, I am employed as a Software \n",
      "Engineer at HotelKey, a US-based company, where I work remotely, contributing to a \n",
      "highly dynamic and innovative environment. Before this, I served as an Associate \n",
      "Software Engineer at the same company, progressing in my role due to my contributions \n",
      "and ability to handle complex technical challenges. My work primarily revolves around \n",
      "developing and maintaining RESTful APIs, cloud-based architectures, and scalable\n",
      "\n",
      "developing and maintaining RESTful APIs, cloud-based architectures, and scalable \n",
      "software solutions. I specialize in using Java, Python, C, and C++, along with a range of \n",
      "Amazon Web Services (AWS) tools such as CloudWatch, S3, Athena, DynamoDB, \n",
      "Lambda, SNS, and SQS. My responsibilities include working on microservices, database\n",
      "\n",
      "shaping industries and making life more eIicient. \n",
      "My academic journey began with a strong foundation in information technology. I pursued \n",
      "my Bachelor of Science in Information Technology at the University of the Punjab, a \n",
      "program that gave me the technical expertise and analytical skills necessary to succeed \n",
      "in the ﬁeld. Not only did I graduate with distinction, but I also achieved a CGPA of \n",
      "3.93/4.00, which earned me the honor of being a gold medalist. During my undergraduate \n",
      "years, I immersed myself in programming, databases, and cloud computing while \n",
      "actively participating in research and development projects. Excelling academically was\n",
      "    Question: <pad> What  is  your  current  role  or  job  responsibilities?\n",
      "\n",
      "    Answer:\u001b[0m\n",
      "\n",
      "\u001b[1m> Finished chain.\u001b[0m\n",
      "\n",
      "\u001b[1m> Finished chain.\u001b[0m\n",
      "\n",
      "\u001b[1m> Finished chain.\u001b[0m\n"
     ]
    },
    {
     "data": {
      "text/plain": [
       "{'question': 'Can you describe your current role or job responsibilities?',\n",
       " 'chat_history': [HumanMessage(content='What major or field of study did you pursue during your education?'),\n",
       "  AIMessage(content='<pad>  Master’s  in  Data  Science  and  Artificial  Intelligence\\n'),\n",
       "  HumanMessage(content='How many years of work experience do you have?'),\n",
       "  AIMessage(content='<pad>  I  have  over  two  years  of  work  experience.\\n'),\n",
       "  HumanMessage(content='What type of work or industry have you been involved in?'),\n",
       "  AIMessage(content='<pad>  Software  Engineering\\n')],\n",
       " 'answer': '<pad>   pad>  I  am  a  Software  Engineer  at  HotelKey,  a  US-based  company,  where  I  work  remotely,  contributing  to  a  highly  dynamic  and  innovative  environment.  My  work  primarily  revolves  around  developing  and  maintaining  RESTful  APIs,  cloud-based  architectures,  and  scalable  software  solutions.  I  specialize  in  using  Java,  Python,  C,  and  C++,  along  with  a  range  of  Amazon  Web  Services  (AWS)  tools  such  as  CloudWatch,  S3,  Athena,  DynamoDB,  Lambda,  SNS,  and  SQS.  My  responsibilities  include  working  on  microservices,  database  shaping  industries  and  making  life  more  eIicient.\\n',\n",
       " 'source_documents': [Document(page_content='cybersecurity, and predictive analytics. This aligns with my career aspirations of working \\nat the intersection of data science, AI, and cloud computing to build intelligent, eIicient, \\nand responsible AI solutions. \\nDespite my technical expertise and professional achievements, I remain a lifelong \\nlearner. The technology landscape is constantly shifting, and keeping up with the latest \\ntools, frameworks, and methodologies is essential. In my role, I utilize IntelliJ, Postman, \\nCharles, Jira, Conﬂuence, and Visual Studio to streamline development workﬂows. I have \\nworked with design patterns like Singleton, Factory, Builder, Observer, Adapter,', metadata={'source': 'usman_portfolio.pdf', 'file_path': 'usman_portfolio.pdf', 'page': 1, 'total_pages': 3, 'format': 'PDF 1.3', 'title': '', 'author': '', 'subject': '', 'keywords': '', 'creator': '', 'producer': 'macOS Version 14.6.1 (Build 23G93) Quartz PDFContext', 'creationDate': \"D:20250316175958Z00'00'\", 'modDate': \"D:20250316175958Z00'00'\", 'trapped': ''}),\n",
       "  Document(page_content='demanding yet fulﬁlling experience. \\nWith over two years of professional work experience, I have gained hands-on exposure to \\nvarious aspects of software engineering. Currently, I am employed as a Software \\nEngineer at HotelKey, a US-based company, where I work remotely, contributing to a \\nhighly dynamic and innovative environment. Before this, I served as an Associate \\nSoftware Engineer at the same company, progressing in my role due to my contributions \\nand ability to handle complex technical challenges. My work primarily revolves around \\ndeveloping and maintaining RESTful APIs, cloud-based architectures, and scalable', metadata={'source': 'usman_portfolio.pdf', 'file_path': 'usman_portfolio.pdf', 'page': 0, 'total_pages': 3, 'format': 'PDF 1.3', 'title': '', 'author': '', 'subject': '', 'keywords': '', 'creator': '', 'producer': 'macOS Version 14.6.1 (Build 23G93) Quartz PDFContext', 'creationDate': \"D:20250316175958Z00'00'\", 'modDate': \"D:20250316175958Z00'00'\", 'trapped': ''}),\n",
       "  Document(page_content='developing and maintaining RESTful APIs, cloud-based architectures, and scalable \\nsoftware solutions. I specialize in using Java, Python, C, and C++, along with a range of \\nAmazon Web Services (AWS) tools such as CloudWatch, S3, Athena, DynamoDB, \\nLambda, SNS, and SQS. My responsibilities include working on microservices, database', metadata={'source': 'usman_portfolio.pdf', 'file_path': 'usman_portfolio.pdf', 'page': 0, 'total_pages': 3, 'format': 'PDF 1.3', 'title': '', 'author': '', 'subject': '', 'keywords': '', 'creator': '', 'producer': 'macOS Version 14.6.1 (Build 23G93) Quartz PDFContext', 'creationDate': \"D:20250316175958Z00'00'\", 'modDate': \"D:20250316175958Z00'00'\", 'trapped': ''}),\n",
       "  Document(page_content='shaping industries and making life more eIicient. \\nMy academic journey began with a strong foundation in information technology. I pursued \\nmy Bachelor of Science in Information Technology at the University of the Punjab, a \\nprogram that gave me the technical expertise and analytical skills necessary to succeed \\nin the ﬁeld. Not only did I graduate with distinction, but I also achieved a CGPA of \\n3.93/4.00, which earned me the honor of being a gold medalist. During my undergraduate \\nyears, I immersed myself in programming, databases, and cloud computing while \\nactively participating in research and development projects. Excelling academically was', metadata={'source': 'usman_portfolio.pdf', 'file_path': 'usman_portfolio.pdf', 'page': 0, 'total_pages': 3, 'format': 'PDF 1.3', 'title': '', 'author': '', 'subject': '', 'keywords': '', 'creator': '', 'producer': 'macOS Version 14.6.1 (Build 23G93) Quartz PDFContext', 'creationDate': \"D:20250316175958Z00'00'\", 'modDate': \"D:20250316175958Z00'00'\", 'trapped': ''})]}"
      ]
     },
     "execution_count": 38,
     "metadata": {},
     "output_type": "execute_result"
    }
   ],
   "source": [
    "prompt_question = \"Can you describe your current role or job responsibilities?\"\n",
    "answer = chain({\"question\": prompt_question})\n",
    "answer"
   ]
  },
  {
   "cell_type": "code",
   "execution_count": 39,
   "metadata": {},
   "outputs": [
    {
     "name": "stdout",
     "output_type": "stream",
     "text": [
      "\n",
      "\n",
      "\u001b[1m> Entering new ConversationalRetrievalChain chain...\u001b[0m\n",
      "\n",
      "\n",
      "\u001b[1m> Entering new LLMChain chain...\u001b[0m\n",
      "Prompt after formatting:\n",
      "\u001b[32;1m\u001b[1;3mGiven the following conversation and a follow up question, rephrase the follow up question to be a standalone question, in its original language.\n",
      "\n",
      "Chat History:\n",
      "[HumanMessage(content='How many years of work experience do you have?'), AIMessage(content='<pad>  I  have  over  two  years  of  work  experience.\\n'), HumanMessage(content='What type of work or industry have you been involved in?'), AIMessage(content='<pad>  Software  Engineering\\n'), HumanMessage(content='Can you describe your current role or job responsibilities?'), AIMessage(content='<pad>   pad>  I  am  a  Software  Engineer  at  HotelKey,  a  US-based  company,  where  I  work  remotely,  contributing  to  a  highly  dynamic  and  innovative  environment.  My  work  primarily  revolves  around  developing  and  maintaining  RESTful  APIs,  cloud-based  architectures,  and  scalable  software  solutions.  I  specialize  in  using  Java,  Python,  C,  and  C++,  along  with  a  range  of  Amazon  Web  Services  (AWS)  tools  such  as  CloudWatch,  S3,  Athena,  DynamoDB,  Lambda,  SNS,  and  SQS.  My  responsibilities  include  working  on  microservices,  database  shaping  industries  and  making  life  more  eIicient.\\n')]\n",
      "Follow Up Input: What are your core beliefs regarding the role of technology in shaping society?\n",
      "Standalone question:\u001b[0m\n",
      "\n",
      "\u001b[1m> Finished chain.\u001b[0m\n",
      "\n",
      "\n",
      "\u001b[1m> Entering new StuffDocumentsChain chain...\u001b[0m\n",
      "\n",
      "\n",
      "\u001b[1m> Entering new LLMChain chain...\u001b[0m\n",
      "Prompt after formatting:\n",
      "\u001b[32;1m\u001b[1;3mI'm your friendly AI bot I will try to answer your questions especially about Usman\n",
      "    research, I remain excited about the endless possibilities that lie ahead and eager to \n",
      "make a meaningful impact in the ever-evolving world of technology.\n",
      "\n",
      "with ethical considerations, ensuring that advancements do not contribute to inequality \n",
      "or biases. Cultural values play a signiﬁcant role in shaping how technology is perceived \n",
      "and implemented across diIerent societies. For example, in data privacy-sensitive \n",
      "regions, technologies should prioritize security and transparency, whereas in developing \n",
      "nations, innovation should focus on bridging digital divides and making technology more \n",
      "accessible. This balance between technological advancement and cultural adaptability \n",
      "is something I strongly advocate for, both in my work and research. \n",
      "As I navigate my master’s program in Data Science and AI, my research interests continue\n",
      "\n",
      "architectures in the software industry. \n",
      "The tech industry is one of the most dynamic ﬁelds, constantly evolving with new trends, \n",
      "frameworks, and paradigms. My professional experiences have not only enhanced my \n",
      "technical skills but also shaped my core beliefs regarding the role of technology in \n",
      "society. I ﬁrmly believe that technology should be developed with the intention of \n",
      "improving lives, solving real-world challenges, and fostering inclusivity. While AI and \n",
      "automation can optimize processes and drive eIiciency, they should also be designed \n",
      "with ethical considerations, ensuring that advancements do not contribute to inequality\n",
      "\n",
      "Usman’s Portfolio \n",
      "Technology has always been a transformative force, shaping societies in unprecedented \n",
      "ways and redeﬁning how we interact, conduct business, and solve real-world problems. \n",
      "My passion for technology and software engineering has been a deﬁning aspect of my \n",
      "journey, leading me to where I am today. Born on September 24, 1995, I have spent my \n",
      "years constantly evolving with the technological landscape, embracing challenges, and \n",
      "continuously learning. With nearly 29 years of life experience, I have always been \n",
      "fascinated by how software, artiﬁcial intelligence, and cloud computing contribute to \n",
      "shaping industries and making life more eIicient.\n",
      "    Question: <pad> What  are  your  thoughts  on  the  potential  impact  of  technology  on  society?\n",
      "\n",
      "    Answer:\u001b[0m\n",
      "\n",
      "\u001b[1m> Finished chain.\u001b[0m\n",
      "\n",
      "\u001b[1m> Finished chain.\u001b[0m\n",
      "\n",
      "\u001b[1m> Finished chain.\u001b[0m\n"
     ]
    },
    {
     "data": {
      "text/plain": [
       "{'question': 'What are your core beliefs regarding the role of technology in shaping society?',\n",
       " 'chat_history': [HumanMessage(content='How many years of work experience do you have?'),\n",
       "  AIMessage(content='<pad>  I  have  over  two  years  of  work  experience.\\n'),\n",
       "  HumanMessage(content='What type of work or industry have you been involved in?'),\n",
       "  AIMessage(content='<pad>  Software  Engineering\\n'),\n",
       "  HumanMessage(content='Can you describe your current role or job responsibilities?'),\n",
       "  AIMessage(content='<pad>   pad>  I  am  a  Software  Engineer  at  HotelKey,  a  US-based  company,  where  I  work  remotely,  contributing  to  a  highly  dynamic  and  innovative  environment.  My  work  primarily  revolves  around  developing  and  maintaining  RESTful  APIs,  cloud-based  architectures,  and  scalable  software  solutions.  I  specialize  in  using  Java,  Python,  C,  and  C++,  along  with  a  range  of  Amazon  Web  Services  (AWS)  tools  such  as  CloudWatch,  S3,  Athena,  DynamoDB,  Lambda,  SNS,  and  SQS.  My  responsibilities  include  working  on  microservices,  database  shaping  industries  and  making  life  more  eIicient.\\n')],\n",
       " 'answer': \"<pad>`` css>\\n As  an  AI  bot,  I  don't  have  personal  thoughts  or  opinions,  but  I  can  provide  you  with  information  and  insights  based  on  the  text  you  provide.  However,  I  can  only  provide  information  and  insights  based  on  the  text  you  provide.  If  you  have  any  specific  questions  or  topics  you  would  like  me  to  cover,  please  let  me  know  and  I'll  do  my  best  to  assist  you.\\n\",\n",
       " 'source_documents': [Document(page_content='research, I remain excited about the endless possibilities that lie ahead and eager to \\nmake a meaningful impact in the ever-evolving world of technology.', metadata={'source': 'usman_portfolio.pdf', 'file_path': 'usman_portfolio.pdf', 'page': 2, 'total_pages': 3, 'format': 'PDF 1.3', 'title': '', 'author': '', 'subject': '', 'keywords': '', 'creator': '', 'producer': 'macOS Version 14.6.1 (Build 23G93) Quartz PDFContext', 'creationDate': \"D:20250316175958Z00'00'\", 'modDate': \"D:20250316175958Z00'00'\", 'trapped': ''}),\n",
       "  Document(page_content='with ethical considerations, ensuring that advancements do not contribute to inequality \\nor biases. Cultural values play a signiﬁcant role in shaping how technology is perceived \\nand implemented across diIerent societies. For example, in data privacy-sensitive \\nregions, technologies should prioritize security and transparency, whereas in developing \\nnations, innovation should focus on bridging digital divides and making technology more \\naccessible. This balance between technological advancement and cultural adaptability \\nis something I strongly advocate for, both in my work and research. \\nAs I navigate my master’s program in Data Science and AI, my research interests continue', metadata={'source': 'usman_portfolio.pdf', 'file_path': 'usman_portfolio.pdf', 'page': 1, 'total_pages': 3, 'format': 'PDF 1.3', 'title': '', 'author': '', 'subject': '', 'keywords': '', 'creator': '', 'producer': 'macOS Version 14.6.1 (Build 23G93) Quartz PDFContext', 'creationDate': \"D:20250316175958Z00'00'\", 'modDate': \"D:20250316175958Z00'00'\", 'trapped': ''}),\n",
       "  Document(page_content='architectures in the software industry. \\nThe tech industry is one of the most dynamic ﬁelds, constantly evolving with new trends, \\nframeworks, and paradigms. My professional experiences have not only enhanced my \\ntechnical skills but also shaped my core beliefs regarding the role of technology in \\nsociety. I ﬁrmly believe that technology should be developed with the intention of \\nimproving lives, solving real-world challenges, and fostering inclusivity. While AI and \\nautomation can optimize processes and drive eIiciency, they should also be designed \\nwith ethical considerations, ensuring that advancements do not contribute to inequality', metadata={'source': 'usman_portfolio.pdf', 'file_path': 'usman_portfolio.pdf', 'page': 1, 'total_pages': 3, 'format': 'PDF 1.3', 'title': '', 'author': '', 'subject': '', 'keywords': '', 'creator': '', 'producer': 'macOS Version 14.6.1 (Build 23G93) Quartz PDFContext', 'creationDate': \"D:20250316175958Z00'00'\", 'modDate': \"D:20250316175958Z00'00'\", 'trapped': ''}),\n",
       "  Document(page_content='Usman’s Portfolio \\nTechnology has always been a transformative force, shaping societies in unprecedented \\nways and redeﬁning how we interact, conduct business, and solve real-world problems. \\nMy passion for technology and software engineering has been a deﬁning aspect of my \\njourney, leading me to where I am today. Born on September 24, 1995, I have spent my \\nyears constantly evolving with the technological landscape, embracing challenges, and \\ncontinuously learning. With nearly 29 years of life experience, I have always been \\nfascinated by how software, artiﬁcial intelligence, and cloud computing contribute to \\nshaping industries and making life more eIicient.', metadata={'source': 'usman_portfolio.pdf', 'file_path': 'usman_portfolio.pdf', 'page': 0, 'total_pages': 3, 'format': 'PDF 1.3', 'title': '', 'author': '', 'subject': '', 'keywords': '', 'creator': '', 'producer': 'macOS Version 14.6.1 (Build 23G93) Quartz PDFContext', 'creationDate': \"D:20250316175958Z00'00'\", 'modDate': \"D:20250316175958Z00'00'\", 'trapped': ''})]}"
      ]
     },
     "execution_count": 39,
     "metadata": {},
     "output_type": "execute_result"
    }
   ],
   "source": [
    "prompt_question = \"What are your core beliefs regarding the role of technology in shaping society?\"\n",
    "answer = chain({\"question\": prompt_question})\n",
    "answer"
   ]
  },
  {
   "cell_type": "code",
   "execution_count": 40,
   "metadata": {},
   "outputs": [
    {
     "name": "stdout",
     "output_type": "stream",
     "text": [
      "\n",
      "\n",
      "\u001b[1m> Entering new ConversationalRetrievalChain chain...\u001b[0m\n",
      "\n",
      "\n",
      "\u001b[1m> Entering new LLMChain chain...\u001b[0m\n",
      "Prompt after formatting:\n",
      "\u001b[32;1m\u001b[1;3mGiven the following conversation and a follow up question, rephrase the follow up question to be a standalone question, in its original language.\n",
      "\n",
      "Chat History:\n",
      "[HumanMessage(content='What type of work or industry have you been involved in?'), AIMessage(content='<pad>  Software  Engineering\\n'), HumanMessage(content='Can you describe your current role or job responsibilities?'), AIMessage(content='<pad>   pad>  I  am  a  Software  Engineer  at  HotelKey,  a  US-based  company,  where  I  work  remotely,  contributing  to  a  highly  dynamic  and  innovative  environment.  My  work  primarily  revolves  around  developing  and  maintaining  RESTful  APIs,  cloud-based  architectures,  and  scalable  software  solutions.  I  specialize  in  using  Java,  Python,  C,  and  C++,  along  with  a  range  of  Amazon  Web  Services  (AWS)  tools  such  as  CloudWatch,  S3,  Athena,  DynamoDB,  Lambda,  SNS,  and  SQS.  My  responsibilities  include  working  on  microservices,  database  shaping  industries  and  making  life  more  eIicient.\\n'), HumanMessage(content='What are your core beliefs regarding the role of technology in shaping society?'), AIMessage(content=\"<pad>`` css>\\n As  an  AI  bot,  I  don't  have  personal  thoughts  or  opinions,  but  I  can  provide  you  with  information  and  insights  based  on  the  text  you  provide.  However,  I  can  only  provide  information  and  insights  based  on  the  text  you  provide.  If  you  have  any  specific  questions  or  topics  you  would  like  me  to  cover,  please  let  me  know  and  I'll  do  my  best  to  assist  you.\\n\")]\n",
      "Follow Up Input: How do you think cultural values should influence technological advancements?\n",
      "Standalone question:\u001b[0m\n",
      "\n",
      "\u001b[1m> Finished chain.\u001b[0m\n",
      "\n",
      "\n",
      "\u001b[1m> Entering new StuffDocumentsChain chain...\u001b[0m\n",
      "\n",
      "\n",
      "\u001b[1m> Entering new LLMChain chain...\u001b[0m\n",
      "Prompt after formatting:\n",
      "\u001b[32;1m\u001b[1;3mI'm your friendly AI bot I will try to answer your questions especially about Usman\n",
      "    with ethical considerations, ensuring that advancements do not contribute to inequality \n",
      "or biases. Cultural values play a signiﬁcant role in shaping how technology is perceived \n",
      "and implemented across diIerent societies. For example, in data privacy-sensitive \n",
      "regions, technologies should prioritize security and transparency, whereas in developing \n",
      "nations, innovation should focus on bridging digital divides and making technology more \n",
      "accessible. This balance between technological advancement and cultural adaptability \n",
      "is something I strongly advocate for, both in my work and research. \n",
      "As I navigate my master’s program in Data Science and AI, my research interests continue\n",
      "\n",
      "architectures in the software industry. \n",
      "The tech industry is one of the most dynamic ﬁelds, constantly evolving with new trends, \n",
      "frameworks, and paradigms. My professional experiences have not only enhanced my \n",
      "technical skills but also shaped my core beliefs regarding the role of technology in \n",
      "society. I ﬁrmly believe that technology should be developed with the intention of \n",
      "improving lives, solving real-world challenges, and fostering inclusivity. While AI and \n",
      "automation can optimize processes and drive eIiciency, they should also be designed \n",
      "with ethical considerations, ensuring that advancements do not contribute to inequality\n",
      "\n",
      "research, I remain excited about the endless possibilities that lie ahead and eager to \n",
      "make a meaningful impact in the ever-evolving world of technology.\n",
      "\n",
      "shaping industries and making life more eIicient. \n",
      "My academic journey began with a strong foundation in information technology. I pursued \n",
      "my Bachelor of Science in Information Technology at the University of the Punjab, a \n",
      "program that gave me the technical expertise and analytical skills necessary to succeed \n",
      "in the ﬁeld. Not only did I graduate with distinction, but I also achieved a CGPA of \n",
      "3.93/4.00, which earned me the honor of being a gold medalist. During my undergraduate \n",
      "years, I immersed myself in programming, databases, and cloud computing while \n",
      "actively participating in research and development projects. Excelling academically was\n",
      "    Question: <pad> What  are  your  thoughts  on  the  role  of  cultural  values  in  shaping  technological  advancements?\n",
      "\n",
      "    Answer:\u001b[0m\n",
      "\n",
      "\u001b[1m> Finished chain.\u001b[0m\n",
      "\n",
      "\u001b[1m> Finished chain.\u001b[0m\n",
      "\n",
      "\u001b[1m> Finished chain.\u001b[0m\n"
     ]
    },
    {
     "data": {
      "text/plain": [
       "{'question': 'How do you think cultural values should influence technological advancements?',\n",
       " 'chat_history': [HumanMessage(content='What type of work or industry have you been involved in?'),\n",
       "  AIMessage(content='<pad>  Software  Engineering\\n'),\n",
       "  HumanMessage(content='Can you describe your current role or job responsibilities?'),\n",
       "  AIMessage(content='<pad>   pad>  I  am  a  Software  Engineer  at  HotelKey,  a  US-based  company,  where  I  work  remotely,  contributing  to  a  highly  dynamic  and  innovative  environment.  My  work  primarily  revolves  around  developing  and  maintaining  RESTful  APIs,  cloud-based  architectures,  and  scalable  software  solutions.  I  specialize  in  using  Java,  Python,  C,  and  C++,  along  with  a  range  of  Amazon  Web  Services  (AWS)  tools  such  as  CloudWatch,  S3,  Athena,  DynamoDB,  Lambda,  SNS,  and  SQS.  My  responsibilities  include  working  on  microservices,  database  shaping  industries  and  making  life  more  eIicient.\\n'),\n",
       "  HumanMessage(content='What are your core beliefs regarding the role of technology in shaping society?'),\n",
       "  AIMessage(content=\"<pad>`` css>\\n As  an  AI  bot,  I  don't  have  personal  thoughts  or  opinions,  but  I  can  provide  you  with  information  and  insights  based  on  the  text  you  provide.  However,  I  can  only  provide  information  and  insights  based  on  the  text  you  provide.  If  you  have  any  specific  questions  or  topics  you  would  like  me  to  cover,  please  let  me  know  and  I'll  do  my  best  to  assist  you.\\n\")],\n",
       " 'answer': '<pad>   pad>\\n',\n",
       " 'source_documents': [Document(page_content='with ethical considerations, ensuring that advancements do not contribute to inequality \\nor biases. Cultural values play a signiﬁcant role in shaping how technology is perceived \\nand implemented across diIerent societies. For example, in data privacy-sensitive \\nregions, technologies should prioritize security and transparency, whereas in developing \\nnations, innovation should focus on bridging digital divides and making technology more \\naccessible. This balance between technological advancement and cultural adaptability \\nis something I strongly advocate for, both in my work and research. \\nAs I navigate my master’s program in Data Science and AI, my research interests continue', metadata={'source': 'usman_portfolio.pdf', 'file_path': 'usman_portfolio.pdf', 'page': 1, 'total_pages': 3, 'format': 'PDF 1.3', 'title': '', 'author': '', 'subject': '', 'keywords': '', 'creator': '', 'producer': 'macOS Version 14.6.1 (Build 23G93) Quartz PDFContext', 'creationDate': \"D:20250316175958Z00'00'\", 'modDate': \"D:20250316175958Z00'00'\", 'trapped': ''}),\n",
       "  Document(page_content='architectures in the software industry. \\nThe tech industry is one of the most dynamic ﬁelds, constantly evolving with new trends, \\nframeworks, and paradigms. My professional experiences have not only enhanced my \\ntechnical skills but also shaped my core beliefs regarding the role of technology in \\nsociety. I ﬁrmly believe that technology should be developed with the intention of \\nimproving lives, solving real-world challenges, and fostering inclusivity. While AI and \\nautomation can optimize processes and drive eIiciency, they should also be designed \\nwith ethical considerations, ensuring that advancements do not contribute to inequality', metadata={'source': 'usman_portfolio.pdf', 'file_path': 'usman_portfolio.pdf', 'page': 1, 'total_pages': 3, 'format': 'PDF 1.3', 'title': '', 'author': '', 'subject': '', 'keywords': '', 'creator': '', 'producer': 'macOS Version 14.6.1 (Build 23G93) Quartz PDFContext', 'creationDate': \"D:20250316175958Z00'00'\", 'modDate': \"D:20250316175958Z00'00'\", 'trapped': ''}),\n",
       "  Document(page_content='research, I remain excited about the endless possibilities that lie ahead and eager to \\nmake a meaningful impact in the ever-evolving world of technology.', metadata={'source': 'usman_portfolio.pdf', 'file_path': 'usman_portfolio.pdf', 'page': 2, 'total_pages': 3, 'format': 'PDF 1.3', 'title': '', 'author': '', 'subject': '', 'keywords': '', 'creator': '', 'producer': 'macOS Version 14.6.1 (Build 23G93) Quartz PDFContext', 'creationDate': \"D:20250316175958Z00'00'\", 'modDate': \"D:20250316175958Z00'00'\", 'trapped': ''}),\n",
       "  Document(page_content='shaping industries and making life more eIicient. \\nMy academic journey began with a strong foundation in information technology. I pursued \\nmy Bachelor of Science in Information Technology at the University of the Punjab, a \\nprogram that gave me the technical expertise and analytical skills necessary to succeed \\nin the ﬁeld. Not only did I graduate with distinction, but I also achieved a CGPA of \\n3.93/4.00, which earned me the honor of being a gold medalist. During my undergraduate \\nyears, I immersed myself in programming, databases, and cloud computing while \\nactively participating in research and development projects. Excelling academically was', metadata={'source': 'usman_portfolio.pdf', 'file_path': 'usman_portfolio.pdf', 'page': 0, 'total_pages': 3, 'format': 'PDF 1.3', 'title': '', 'author': '', 'subject': '', 'keywords': '', 'creator': '', 'producer': 'macOS Version 14.6.1 (Build 23G93) Quartz PDFContext', 'creationDate': \"D:20250316175958Z00'00'\", 'modDate': \"D:20250316175958Z00'00'\", 'trapped': ''})]}"
      ]
     },
     "execution_count": 40,
     "metadata": {},
     "output_type": "execute_result"
    }
   ],
   "source": [
    "\n",
    "prompt_question = \"How do you think cultural values should influence technological advancements?\"\n",
    "answer = chain({\"question\": prompt_question})\n",
    "answer"
   ]
  },
  {
   "cell_type": "code",
   "execution_count": 41,
   "metadata": {},
   "outputs": [
    {
     "name": "stdout",
     "output_type": "stream",
     "text": [
      "\n",
      "\n",
      "\u001b[1m> Entering new ConversationalRetrievalChain chain...\u001b[0m\n",
      "\n",
      "\n",
      "\u001b[1m> Entering new LLMChain chain...\u001b[0m\n",
      "Prompt after formatting:\n",
      "\u001b[32;1m\u001b[1;3mGiven the following conversation and a follow up question, rephrase the follow up question to be a standalone question, in its original language.\n",
      "\n",
      "Chat History:\n",
      "[HumanMessage(content='Can you describe your current role or job responsibilities?'), AIMessage(content='<pad>   pad>  I  am  a  Software  Engineer  at  HotelKey,  a  US-based  company,  where  I  work  remotely,  contributing  to  a  highly  dynamic  and  innovative  environment.  My  work  primarily  revolves  around  developing  and  maintaining  RESTful  APIs,  cloud-based  architectures,  and  scalable  software  solutions.  I  specialize  in  using  Java,  Python,  C,  and  C++,  along  with  a  range  of  Amazon  Web  Services  (AWS)  tools  such  as  CloudWatch,  S3,  Athena,  DynamoDB,  Lambda,  SNS,  and  SQS.  My  responsibilities  include  working  on  microservices,  database  shaping  industries  and  making  life  more  eIicient.\\n'), HumanMessage(content='What are your core beliefs regarding the role of technology in shaping society?'), AIMessage(content=\"<pad>`` css>\\n As  an  AI  bot,  I  don't  have  personal  thoughts  or  opinions,  but  I  can  provide  you  with  information  and  insights  based  on  the  text  you  provide.  However,  I  can  only  provide  information  and  insights  based  on  the  text  you  provide.  If  you  have  any  specific  questions  or  topics  you  would  like  me  to  cover,  please  let  me  know  and  I'll  do  my  best  to  assist  you.\\n\"), HumanMessage(content='How do you think cultural values should influence technological advancements?'), AIMessage(content='<pad>   pad>\\n')]\n",
      "Follow Up Input: As a master’s student, what is the most challenging aspect of your studies so far?\n",
      "Standalone question:\u001b[0m\n",
      "\n",
      "\u001b[1m> Finished chain.\u001b[0m\n",
      "\n",
      "\n",
      "\u001b[1m> Entering new StuffDocumentsChain chain...\u001b[0m\n",
      "\n",
      "\n",
      "\u001b[1m> Entering new LLMChain chain...\u001b[0m\n",
      "Prompt after formatting:\n",
      "\u001b[32;1m\u001b[1;3mI'm your friendly AI bot I will try to answer your questions especially about Usman\n",
      "    where I began my studies in August 2024. The transition from undergraduate studies to a \n",
      "master’s program was both exciting and challenging. The most demanding aspect of my \n",
      "graduate studies so far has been the depth of mathematical and statistical foundations \n",
      "required for AI and machine learning. While I had previously worked with data analytics \n",
      "and machine learning models, the master’s program requires an even deeper \n",
      "understanding of complex algorithms, optimization techniques, and real-world \n",
      "applications. Balancing research, coursework, and practical projects has been a \n",
      "demanding yet fulﬁlling experience.\n",
      "\n",
      "expertise. The transition from structured undergraduate education to self-driven \n",
      "research in a master’s program has been an eye-opening experience, pushing me to think \n",
      "critically and explore innovative AI solutions to real-world problems. \n",
      "Looking ahead, I am committed to furthering my knowledge and expertise in AI, software \n",
      "engineering, and cloud technologies. I envision myself contributing to groundbreaking AI \n",
      "applications that revolutionize industries while upholding ethical AI practices and \n",
      "inclusive technological development. As I continue my journey in data science and AI \n",
      "research, I remain excited about the endless possibilities that lie ahead and eager to\n",
      "\n",
      "another area I emphasize, employing JUnit for unit testing, integration testing techniques, \n",
      "and test-driven development (TDD) to ensure the reliability of software solutions. \n",
      "One of the biggest challenges in my academic and professional journey has been \n",
      "managing time eIectively. Balancing a full-time job as a Software Engineer with a \n",
      "rigorous master’s program requires strategic planning, self-discipline, and prioritization. \n",
      "While the workload can be overwhelming at times, the experience has taught me \n",
      "resilience, adaptability, and problem-solving skills that extend beyond technical \n",
      "expertise. The transition from structured undergraduate education to self-driven\n",
      "\n",
      "research, I remain excited about the endless possibilities that lie ahead and eager to \n",
      "make a meaningful impact in the ever-evolving world of technology.\n",
      "    Question: <pad>  What  has  been  the  most  challenging  aspect  of  your  studies  so  far?\n",
      "\n",
      "    Answer:\u001b[0m\n",
      "\n",
      "\u001b[1m> Finished chain.\u001b[0m\n",
      "\n",
      "\u001b[1m> Finished chain.\u001b[0m\n",
      "\n",
      "\u001b[1m> Finished chain.\u001b[0m\n"
     ]
    },
    {
     "data": {
      "text/plain": [
       "{'question': 'As a master’s student, what is the most challenging aspect of your studies so far?',\n",
       " 'chat_history': [HumanMessage(content='Can you describe your current role or job responsibilities?'),\n",
       "  AIMessage(content='<pad>   pad>  I  am  a  Software  Engineer  at  HotelKey,  a  US-based  company,  where  I  work  remotely,  contributing  to  a  highly  dynamic  and  innovative  environment.  My  work  primarily  revolves  around  developing  and  maintaining  RESTful  APIs,  cloud-based  architectures,  and  scalable  software  solutions.  I  specialize  in  using  Java,  Python,  C,  and  C++,  along  with  a  range  of  Amazon  Web  Services  (AWS)  tools  such  as  CloudWatch,  S3,  Athena,  DynamoDB,  Lambda,  SNS,  and  SQS.  My  responsibilities  include  working  on  microservices,  database  shaping  industries  and  making  life  more  eIicient.\\n'),\n",
       "  HumanMessage(content='What are your core beliefs regarding the role of technology in shaping society?'),\n",
       "  AIMessage(content=\"<pad>`` css>\\n As  an  AI  bot,  I  don't  have  personal  thoughts  or  opinions,  but  I  can  provide  you  with  information  and  insights  based  on  the  text  you  provide.  However,  I  can  only  provide  information  and  insights  based  on  the  text  you  provide.  If  you  have  any  specific  questions  or  topics  you  would  like  me  to  cover,  please  let  me  know  and  I'll  do  my  best  to  assist  you.\\n\"),\n",
       "  HumanMessage(content='How do you think cultural values should influence technological advancements?'),\n",
       "  AIMessage(content='<pad>   pad>\\n')],\n",
       " 'answer': '<pad>  The  depth  of  mathematical  and  statistical  foundations  required  for  AI  and  machine  learning.\\n',\n",
       " 'source_documents': [Document(page_content='where I began my studies in August 2024. The transition from undergraduate studies to a \\nmaster’s program was both exciting and challenging. The most demanding aspect of my \\ngraduate studies so far has been the depth of mathematical and statistical foundations \\nrequired for AI and machine learning. While I had previously worked with data analytics \\nand machine learning models, the master’s program requires an even deeper \\nunderstanding of complex algorithms, optimization techniques, and real-world \\napplications. Balancing research, coursework, and practical projects has been a \\ndemanding yet fulﬁlling experience.', metadata={'source': 'usman_portfolio.pdf', 'file_path': 'usman_portfolio.pdf', 'page': 0, 'total_pages': 3, 'format': 'PDF 1.3', 'title': '', 'author': '', 'subject': '', 'keywords': '', 'creator': '', 'producer': 'macOS Version 14.6.1 (Build 23G93) Quartz PDFContext', 'creationDate': \"D:20250316175958Z00'00'\", 'modDate': \"D:20250316175958Z00'00'\", 'trapped': ''}),\n",
       "  Document(page_content='expertise. The transition from structured undergraduate education to self-driven \\nresearch in a master’s program has been an eye-opening experience, pushing me to think \\ncritically and explore innovative AI solutions to real-world problems. \\nLooking ahead, I am committed to furthering my knowledge and expertise in AI, software \\nengineering, and cloud technologies. I envision myself contributing to groundbreaking AI \\napplications that revolutionize industries while upholding ethical AI practices and \\ninclusive technological development. As I continue my journey in data science and AI \\nresearch, I remain excited about the endless possibilities that lie ahead and eager to', metadata={'source': 'usman_portfolio.pdf', 'file_path': 'usman_portfolio.pdf', 'page': 2, 'total_pages': 3, 'format': 'PDF 1.3', 'title': '', 'author': '', 'subject': '', 'keywords': '', 'creator': '', 'producer': 'macOS Version 14.6.1 (Build 23G93) Quartz PDFContext', 'creationDate': \"D:20250316175958Z00'00'\", 'modDate': \"D:20250316175958Z00'00'\", 'trapped': ''}),\n",
       "  Document(page_content='another area I emphasize, employing JUnit for unit testing, integration testing techniques, \\nand test-driven development (TDD) to ensure the reliability of software solutions. \\nOne of the biggest challenges in my academic and professional journey has been \\nmanaging time eIectively. Balancing a full-time job as a Software Engineer with a \\nrigorous master’s program requires strategic planning, self-discipline, and prioritization. \\nWhile the workload can be overwhelming at times, the experience has taught me \\nresilience, adaptability, and problem-solving skills that extend beyond technical \\nexpertise. The transition from structured undergraduate education to self-driven', metadata={'source': 'usman_portfolio.pdf', 'file_path': 'usman_portfolio.pdf', 'page': 2, 'total_pages': 3, 'format': 'PDF 1.3', 'title': '', 'author': '', 'subject': '', 'keywords': '', 'creator': '', 'producer': 'macOS Version 14.6.1 (Build 23G93) Quartz PDFContext', 'creationDate': \"D:20250316175958Z00'00'\", 'modDate': \"D:20250316175958Z00'00'\", 'trapped': ''}),\n",
       "  Document(page_content='research, I remain excited about the endless possibilities that lie ahead and eager to \\nmake a meaningful impact in the ever-evolving world of technology.', metadata={'source': 'usman_portfolio.pdf', 'file_path': 'usman_portfolio.pdf', 'page': 2, 'total_pages': 3, 'format': 'PDF 1.3', 'title': '', 'author': '', 'subject': '', 'keywords': '', 'creator': '', 'producer': 'macOS Version 14.6.1 (Build 23G93) Quartz PDFContext', 'creationDate': \"D:20250316175958Z00'00'\", 'modDate': \"D:20250316175958Z00'00'\", 'trapped': ''})]}"
      ]
     },
     "execution_count": 41,
     "metadata": {},
     "output_type": "execute_result"
    }
   ],
   "source": [
    "prompt_question = \"As a master’s student, what is the most challenging aspect of your studies so far?\"\n",
    "answer = chain({\"question\": prompt_question})\n",
    "answer"
   ]
  },
  {
   "cell_type": "code",
   "execution_count": 42,
   "metadata": {},
   "outputs": [
    {
     "name": "stdout",
     "output_type": "stream",
     "text": [
      "\n",
      "\n",
      "\u001b[1m> Entering new ConversationalRetrievalChain chain...\u001b[0m\n",
      "\n",
      "\n",
      "\u001b[1m> Entering new LLMChain chain...\u001b[0m\n",
      "Prompt after formatting:\n",
      "\u001b[32;1m\u001b[1;3mGiven the following conversation and a follow up question, rephrase the follow up question to be a standalone question, in its original language.\n",
      "\n",
      "Chat History:\n",
      "[HumanMessage(content='What are your core beliefs regarding the role of technology in shaping society?'), AIMessage(content=\"<pad>`` css>\\n As  an  AI  bot,  I  don't  have  personal  thoughts  or  opinions,  but  I  can  provide  you  with  information  and  insights  based  on  the  text  you  provide.  However,  I  can  only  provide  information  and  insights  based  on  the  text  you  provide.  If  you  have  any  specific  questions  or  topics  you  would  like  me  to  cover,  please  let  me  know  and  I'll  do  my  best  to  assist  you.\\n\"), HumanMessage(content='How do you think cultural values should influence technological advancements?'), AIMessage(content='<pad>   pad>\\n'), HumanMessage(content='As a master’s student, what is the most challenging aspect of your studies so far?'), AIMessage(content='<pad>  The  depth  of  mathematical  and  statistical  foundations  required  for  AI  and  machine  learning.\\n')]\n",
      "Follow Up Input: What specific research interests or academic goals do you hope to achieve during your time as a master’s student?\n",
      "Standalone question:\u001b[0m\n",
      "\n",
      "\u001b[1m> Finished chain.\u001b[0m\n",
      "\n",
      "\n",
      "\u001b[1m> Entering new StuffDocumentsChain chain...\u001b[0m\n",
      "\n",
      "\n",
      "\u001b[1m> Entering new LLMChain chain...\u001b[0m\n",
      "Prompt after formatting:\n",
      "\u001b[32;1m\u001b[1;3mI'm your friendly AI bot I will try to answer your questions especially about Usman\n",
      "    where I began my studies in August 2024. The transition from undergraduate studies to a \n",
      "master’s program was both exciting and challenging. The most demanding aspect of my \n",
      "graduate studies so far has been the depth of mathematical and statistical foundations \n",
      "required for AI and machine learning. While I had previously worked with data analytics \n",
      "and machine learning models, the master’s program requires an even deeper \n",
      "understanding of complex algorithms, optimization techniques, and real-world \n",
      "applications. Balancing research, coursework, and practical projects has been a \n",
      "demanding yet fulﬁlling experience.\n",
      "\n",
      "actively participating in research and development projects. Excelling academically was \n",
      "a priority, but what truly drove me was the ability to apply theoretical knowledge to \n",
      "practical problems. This academic success led me to receive one of the most prestigious \n",
      "scholarships, His Majesty the King's Scholarship, awarded by the Royal Thai Government. \n",
      "This enabled me to take my education to the next level by pursuing a Master’s in Data \n",
      "Science and Artiﬁcial Intelligence at the Asian Institute of Technology (AIT), Thailand, \n",
      "where I began my studies in August 2024. The transition from undergraduate studies to a\n",
      "\n",
      "As I navigate my master’s program in Data Science and AI, my research interests continue \n",
      "to evolve. I am particularly intrigued by the ﬁeld of Natural Language Processing (NLP), \n",
      "deep learning, and AI-driven decision-making systems. During my time at AIT, I aim to \n",
      "work on projects related to NLP, speech recognition, and AI ethics. My ultimate goal is to \n",
      "contribute to research that enhances AI’s ability to understand human language with \n",
      "greater accuracy while minimizing biases in language models. Additionally, I am \n",
      "interested in exploring how AI can be used in automated anomaly detection, \n",
      "cybersecurity, and predictive analytics. This aligns with my career aspirations of working\n",
      "\n",
      "expertise. The transition from structured undergraduate education to self-driven \n",
      "research in a master’s program has been an eye-opening experience, pushing me to think \n",
      "critically and explore innovative AI solutions to real-world problems. \n",
      "Looking ahead, I am committed to furthering my knowledge and expertise in AI, software \n",
      "engineering, and cloud technologies. I envision myself contributing to groundbreaking AI \n",
      "applications that revolutionize industries while upholding ethical AI practices and \n",
      "inclusive technological development. As I continue my journey in data science and AI \n",
      "research, I remain excited about the endless possibilities that lie ahead and eager to\n",
      "    Question: <pad> What  are  your  long-term  academic  and  research  goals  as  a  master's  student?\n",
      "\n",
      "    Answer:\u001b[0m\n"
     ]
    }
   ],
   "source": [
    "prompt_question = \"What specific research interests or academic goals do you hope to achieve during your time as a master’s student?\"\n",
    "answer = chain({\"question\": prompt_question})\n",
    "answer"
   ]
  },
  {
   "cell_type": "code",
   "execution_count": 47,
   "metadata": {},
   "outputs": [],
   "source": [
    "from langchain.chains import RetrievalQA\n",
    "import json"
   ]
  },
  {
   "cell_type": "code",
   "execution_count": 49,
   "metadata": {},
   "outputs": [],
   "source": [
    "# Setting up the question-answering pipeline\n",
    "qa_system = RetrievalQA.from_chain_type(\n",
    "    llm=llm,\n",
    "    chain_type=\"stuff\",\n",
    "    retriever=retriever,\n",
    "    return_source_documents=True,\n",
    "    chain_type_kwargs={\"prompt\": PROMPT}\n",
    ")"
   ]
  },
  {
   "cell_type": "code",
   "execution_count": 50,
   "metadata": {},
   "outputs": [],
   "source": [
    "# Function to process and clean the response\n",
    "def format_response(text):\n",
    "    return text.replace(\"<pad>\", \"\").replace(\"\\n\", \" \").strip()\n",
    "\n",
    "# Function to handle queries and return refined answers\n",
    "def query_qa_system(user_query):\n",
    "    response = qa_system.invoke({\"query\": user_query})  # Fetch response using invoke\n",
    "    return format_response(response[\"result\"])  # Clean up the text output"
   ]
  },
  {
   "cell_type": "code",
   "execution_count": 52,
   "metadata": {},
   "outputs": [],
   "source": [
    "question_set = [\n",
    "    \"How old are you?\",\n",
    "    \"What is your highest level of education?\",\n",
    "    \"What major or field of study did you pursue during your education?\",\n",
    "    \"How many years of work experience do you have?\",\n",
    "    \"What type of work or industry have you been involved in?\",\n",
    "    \"Can you describe your current role or job responsibilities?\",\n",
    "    \"What are your core beliefs regarding the role of technology in shaping society?\",\n",
    "    \"How do you think cultural values should influence technological advancements?\",\n",
    "    \"As a master's student, what is the most challenging aspect of your studies so far?\",\n",
    "    \"What specific research interests or academic goals do you hope to achieve during your time as a master's student?\"\n",
    "]"
   ]
  },
  {
   "cell_type": "code",
   "execution_count": 54,
   "metadata": {},
   "outputs": [],
   "source": [
    "# Generating answers for each question\n",
    "response_collection = [{\"query\": q, \"response\": query_qa_system(q)} for q in question_set]"
   ]
  },
  {
   "cell_type": "code",
   "execution_count": 55,
   "metadata": {},
   "outputs": [],
   "source": [
    "# Storing results in a JSON file\n",
    "with open(\"qa_responses.json\", \"w\") as output_file:\n",
    "    json.dump(response_collection, output_file, indent=4)\n",
    "\n",
    "print(\"Responses have been successfully stored.\")"
   ]
  },
  {
   "cell_type": "code",
   "execution_count": 56,
   "metadata": {},
   "outputs": [
    {
     "name": "stdout",
     "output_type": "stream",
     "text": [
      "[\n",
      "    {\n",
      "        \"question\": \"How old are you?\",\n",
      "        \"answer\": \"I am 29 years old.\"\n",
      "    },\n",
      "    {\n",
      "        \"question\": \"What is your highest level of education?\",\n",
      "        \"answer\": \"Master’s in Data Science and Artificial Intelligence\"\n",
      "    },\n",
      "    {\n",
      "        \"question\": \"What major or field of study did you pursue during your education?\",\n",
      "        \"answer\": \"Master’s in Data Science and Artificial Intelligence\"\n",
      "    },\n",
      "    {\n",
      "        \"question\": \"How many years of work experience do you have?\",\n",
      "        \"answer\": \"I have over two years of work experience.\"\n",
      "    },\n",
      "    {\n",
      "        \"question\": \"What type of work or industry have you been involved in?\",\n",
      "        \"answer\": \"Software Engineering\"\n",
      "    },\n",
      "    {\n",
      "        \"question\": \"Can you describe your current role or job responsibilities?\",\n",
      "        \"answer\": \"I am a Software Engineer at HotelKey, a US-based company, where I work remotely, contributing to a highly dynamic and innovative environment. My work primarily revolves around developing and maintaining RESTful APIs, cloud-based architectures, and scalable software solutions. I specialize in using Java, Python, C, and C++, along with a range of Amazon Web Services (AWS) tools such as CloudWatch, S3, Athena, DynamoDB, Lambda, SNS, and SQS. My responsibilities include working on microservices, database shaping industries, and making life more efficient.\"\n",
      "    },\n",
      "    {\n",
      "        \"question\": \"What are your core beliefs regarding the role of technology in shaping society?\",\n",
      "        \"answer\": \"As an AI bot, I don't have personal thoughts or opinions, but I can provide you with information and insights based on the text you provide. However, I can only provide information and insights based on the text you provide. If you have any specific questions or topics you would like me to cover, please let me know and I'll do my best to assist you.\"\n",
      "    },\n",
      "    {\n",
      "        \"question\": \"How do you think cultural values should influence technological advancements?\",\n",
      "        \"answer\": \"As an AI bot, I don't have personal thoughts or opinions, but I can provide you with information and insights based on the text you provide. However, I can only provide information and insights based on the text you provide. If you have any specific questions or topics you would like me to cover, please let me know and I'll do my best to assist you.\"\n",
      "    },\n",
      "    {\n",
      "        \"question\": \"As a master’s student, what is the most challenging aspect of your studies so far?\",\n",
      "        \"answer\": \"The depth of mathematical and statistical foundations required for AI and machine learning.\"\n",
      "    }\n",
      "]\n"
     ]
    }
   ],
   "source": [
    "response_collection"
   ]
  }
 ],
 "metadata": {
  "kernelspec": {
   "display_name": "Python 3 (ipykernel)",
   "language": "python",
   "name": "python3"
  },
  "language_info": {
   "codemirror_mode": {
    "name": "ipython",
    "version": 3
   },
   "file_extension": ".py",
   "mimetype": "text/x-python",
   "name": "python",
   "nbconvert_exporter": "python",
   "pygments_lexer": "ipython3",
   "version": "3.8.16"
  }
 },
 "nbformat": 4,
 "nbformat_minor": 4
}
